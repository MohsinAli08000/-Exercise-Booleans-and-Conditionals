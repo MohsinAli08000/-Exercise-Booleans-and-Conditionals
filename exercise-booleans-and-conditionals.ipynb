{
 "cells": [
  {
   "cell_type": "markdown",
   "id": "3a03af3e",
   "metadata": {
    "papermill": {
     "duration": 0.013142,
     "end_time": "2024-05-30T15:11:25.068235",
     "exception": false,
     "start_time": "2024-05-30T15:11:25.055093",
     "status": "completed"
    },
    "tags": []
   },
   "source": [
    "**This notebook is an exercise in the [Python](https://www.kaggle.com/learn/python) course.  You can reference the tutorial at [this link](https://www.kaggle.com/colinmorris/booleans-and-conditionals).**\n",
    "\n",
    "---\n"
   ]
  },
  {
   "cell_type": "markdown",
   "id": "5e2f21fe",
   "metadata": {
    "papermill": {
     "duration": 0.012482,
     "end_time": "2024-05-30T15:11:25.093648",
     "exception": false,
     "start_time": "2024-05-30T15:11:25.081166",
     "status": "completed"
    },
    "tags": []
   },
   "source": [
    "In this exercise, you'll put to work what you have learned about booleans and conditionals.\n",
    "\n",
    "To get started, **run the setup code below** before writing your own code (and if you leave this notebook and come back later, don't forget to run the setup code again)."
   ]
  },
  {
   "cell_type": "code",
   "execution_count": 1,
   "id": "77662993",
   "metadata": {
    "execution": {
     "iopub.execute_input": "2024-05-30T15:11:25.121304Z",
     "iopub.status.busy": "2024-05-30T15:11:25.120527Z",
     "iopub.status.idle": "2024-05-30T15:11:26.207843Z",
     "shell.execute_reply": "2024-05-30T15:11:26.206421Z"
    },
    "papermill": {
     "duration": 1.104007,
     "end_time": "2024-05-30T15:11:26.210444",
     "exception": false,
     "start_time": "2024-05-30T15:11:25.106437",
     "status": "completed"
    },
    "tags": []
   },
   "outputs": [
    {
     "name": "stdout",
     "output_type": "stream",
     "text": [
      "Setup complete.\n"
     ]
    }
   ],
   "source": [
    "from learntools.core import binder; binder.bind(globals())\n",
    "from learntools.python.ex3 import *\n",
    "print('Setup complete.')"
   ]
  },
  {
   "cell_type": "markdown",
   "id": "de2e6488",
   "metadata": {
    "papermill": {
     "duration": 0.014464,
     "end_time": "2024-05-30T15:11:26.237550",
     "exception": false,
     "start_time": "2024-05-30T15:11:26.223086",
     "status": "completed"
    },
    "tags": []
   },
   "source": [
    "# 1.\n",
    "\n",
    "Many programming languages have [`sign`](https://en.wikipedia.org/wiki/Sign_function) available as a built-in function. Python doesn't, but we can define our own!\n",
    "\n",
    "In the cell below, define a function called `sign` which takes a numerical argument and returns -1 if it's negative, 1 if it's positive, and 0 if it's 0."
   ]
  },
  {
   "cell_type": "code",
   "execution_count": 2,
   "id": "4c792d45",
   "metadata": {
    "execution": {
     "iopub.execute_input": "2024-05-30T15:11:26.266339Z",
     "iopub.status.busy": "2024-05-30T15:11:26.265732Z",
     "iopub.status.idle": "2024-05-30T15:11:26.271060Z",
     "shell.execute_reply": "2024-05-30T15:11:26.270191Z"
    },
    "papermill": {
     "duration": 0.021665,
     "end_time": "2024-05-30T15:11:26.273129",
     "exception": false,
     "start_time": "2024-05-30T15:11:26.251464",
     "status": "completed"
    },
    "tags": []
   },
   "outputs": [],
   "source": [
    "def sign(x):\n",
    "    if x > 0:\n",
    "        return 1\n",
    "    elif x < 0:\n",
    "        return -1\n",
    "    else:\n",
    "        return 0"
   ]
  },
  {
   "cell_type": "code",
   "execution_count": 3,
   "id": "227d91a0",
   "metadata": {
    "execution": {
     "iopub.execute_input": "2024-05-30T15:11:26.302520Z",
     "iopub.status.busy": "2024-05-30T15:11:26.301685Z",
     "iopub.status.idle": "2024-05-30T15:11:26.305976Z",
     "shell.execute_reply": "2024-05-30T15:11:26.305169Z"
    },
    "papermill": {
     "duration": 0.021486,
     "end_time": "2024-05-30T15:11:26.308324",
     "exception": false,
     "start_time": "2024-05-30T15:11:26.286838",
     "status": "completed"
    },
    "tags": []
   },
   "outputs": [],
   "source": [
    "#q1.solution()"
   ]
  },
  {
   "cell_type": "markdown",
   "id": "f5356665",
   "metadata": {
    "papermill": {
     "duration": 0.013002,
     "end_time": "2024-05-30T15:11:26.335278",
     "exception": false,
     "start_time": "2024-05-30T15:11:26.322276",
     "status": "completed"
    },
    "tags": []
   },
   "source": [
    "# 2.\n",
    "\n",
    "We've decided to add \"logging\" to our `to_smash` function from the previous exercise."
   ]
  },
  {
   "cell_type": "code",
   "execution_count": 4,
   "id": "bb23a807",
   "metadata": {
    "execution": {
     "iopub.execute_input": "2024-05-30T15:11:26.363787Z",
     "iopub.status.busy": "2024-05-30T15:11:26.362989Z",
     "iopub.status.idle": "2024-05-30T15:11:26.372566Z",
     "shell.execute_reply": "2024-05-30T15:11:26.371738Z"
    },
    "papermill": {
     "duration": 0.025888,
     "end_time": "2024-05-30T15:11:26.374813",
     "exception": false,
     "start_time": "2024-05-30T15:11:26.348925",
     "status": "completed"
    },
    "tags": []
   },
   "outputs": [
    {
     "name": "stdout",
     "output_type": "stream",
     "text": [
      "Splitting 91 candies\n"
     ]
    },
    {
     "data": {
      "text/plain": [
       "1"
      ]
     },
     "execution_count": 4,
     "metadata": {},
     "output_type": "execute_result"
    }
   ],
   "source": [
    "def to_smash(total_candies):\n",
    "    \"\"\"Return the number of leftover candies that must be smashed after distributing\n",
    "    the given number of candies evenly between 3 friends.\n",
    "    \n",
    "    >>> to_smash(91)\n",
    "    1\n",
    "    \"\"\"\n",
    "    print(\"Splitting\", total_candies, \"candies\")  # Logging message\n",
    "    return total_candies % 3\n",
    "\n",
    "to_smash(91)\n"
   ]
  },
  {
   "cell_type": "markdown",
   "id": "cadbfae3",
   "metadata": {
    "papermill": {
     "duration": 0.01249,
     "end_time": "2024-05-30T15:11:26.400238",
     "exception": false,
     "start_time": "2024-05-30T15:11:26.387748",
     "status": "completed"
    },
    "tags": []
   },
   "source": [
    "What happens if we call it with `total_candies = 1`?"
   ]
  },
  {
   "cell_type": "code",
   "execution_count": 5,
   "id": "dc73e1d7",
   "metadata": {
    "execution": {
     "iopub.execute_input": "2024-05-30T15:11:26.429086Z",
     "iopub.status.busy": "2024-05-30T15:11:26.428664Z",
     "iopub.status.idle": "2024-05-30T15:11:26.436199Z",
     "shell.execute_reply": "2024-05-30T15:11:26.434867Z"
    },
    "papermill": {
     "duration": 0.024776,
     "end_time": "2024-05-30T15:11:26.438820",
     "exception": false,
     "start_time": "2024-05-30T15:11:26.414044",
     "status": "completed"
    },
    "tags": []
   },
   "outputs": [
    {
     "name": "stdout",
     "output_type": "stream",
     "text": [
      "Splitting 1 candies\n"
     ]
    },
    {
     "data": {
      "text/plain": [
       "1"
      ]
     },
     "execution_count": 5,
     "metadata": {},
     "output_type": "execute_result"
    }
   ],
   "source": [
    "to_smash(1)"
   ]
  },
  {
   "cell_type": "markdown",
   "id": "294466cd",
   "metadata": {
    "papermill": {
     "duration": 0.012666,
     "end_time": "2024-05-30T15:11:26.464639",
     "exception": false,
     "start_time": "2024-05-30T15:11:26.451973",
     "status": "completed"
    },
    "tags": []
   },
   "source": [
    "That isn't great grammar!\n",
    "\n",
    "Modify the definition in the cell below to correct the grammar of our print statement. (If there's only one candy, we should use the singular \"candy\" instead of the plural \"candies\")"
   ]
  },
  {
   "cell_type": "code",
   "execution_count": 6,
   "id": "d1b5a378",
   "metadata": {
    "execution": {
     "iopub.execute_input": "2024-05-30T15:11:26.492854Z",
     "iopub.status.busy": "2024-05-30T15:11:26.492427Z",
     "iopub.status.idle": "2024-05-30T15:11:26.501896Z",
     "shell.execute_reply": "2024-05-30T15:11:26.500415Z"
    },
    "papermill": {
     "duration": 0.026895,
     "end_time": "2024-05-30T15:11:26.504620",
     "exception": false,
     "start_time": "2024-05-30T15:11:26.477725",
     "status": "completed"
    },
    "tags": []
   },
   "outputs": [
    {
     "name": "stdout",
     "output_type": "stream",
     "text": [
      "Splitting 91 candies\n",
      "Splitting 1 candy\n"
     ]
    },
    {
     "data": {
      "text/plain": [
       "1"
      ]
     },
     "execution_count": 6,
     "metadata": {},
     "output_type": "execute_result"
    }
   ],
   "source": [
    "def to_smash(total_candies):\n",
    "    \"\"\"Return the number of leftover candies that must be smashed after distributing\n",
    "    the given number of candies evenly between 3 friends.\n",
    "    \n",
    "    >>> to_smash(91)\n",
    "    1\n",
    "    \"\"\"\n",
    "    if total_candies == 1:\n",
    "        print(\"Splitting\", total_candies, \"candy\")  # Singular form\n",
    "    else:\n",
    "        print(\"Splitting\", total_candies, \"candies\")  # Plural form\n",
    "    return total_candies % 3\n",
    "\n",
    "to_smash(91)\n",
    "to_smash(1)\n"
   ]
  },
  {
   "cell_type": "markdown",
   "id": "338e92f5",
   "metadata": {
    "papermill": {
     "duration": 0.014078,
     "end_time": "2024-05-30T15:11:26.532369",
     "exception": false,
     "start_time": "2024-05-30T15:11:26.518291",
     "status": "completed"
    },
    "tags": []
   },
   "source": [
    "To get credit for completing this problem, and to see the official answer, run the code cell below."
   ]
  },
  {
   "cell_type": "code",
   "execution_count": 7,
   "id": "47aa9fa3",
   "metadata": {
    "execution": {
     "iopub.execute_input": "2024-05-30T15:11:26.563677Z",
     "iopub.status.busy": "2024-05-30T15:11:26.563266Z",
     "iopub.status.idle": "2024-05-30T15:11:26.574186Z",
     "shell.execute_reply": "2024-05-30T15:11:26.572827Z"
    },
    "papermill": {
     "duration": 0.029899,
     "end_time": "2024-05-30T15:11:26.576851",
     "exception": false,
     "start_time": "2024-05-30T15:11:26.546952",
     "status": "completed"
    },
    "tags": []
   },
   "outputs": [
    {
     "data": {
      "application/javascript": [
       "parent.postMessage({\"jupyterEvent\": \"custom.exercise_interaction\", \"data\": {\"interactionType\": 3, \"questionType\": 4, \"questionId\": \"2_PluralizationProblem\", \"learnToolsVersion\": \"0.3.4\", \"valueTowardsCompletion\": 0.0, \"failureMessage\": \"\", \"exceptionClass\": \"\", \"trace\": \"\", \"outcomeType\": 4}}, \"*\")"
      ],
      "text/plain": [
       "<IPython.core.display.Javascript object>"
      ]
     },
     "metadata": {},
     "output_type": "display_data"
    },
    {
     "data": {
      "text/markdown": [
       "<span style=\"color:#33cc99\">Solution:</span> A straightforward (and totally fine) solution is to replace the original `print` call with:\n",
       "\n",
       "```python\n",
       "if total_candies == 1:\n",
       "    print(\"Splitting 1 candy\")\n",
       "else:\n",
       "    print(\"Splitting\", total_candies, \"candies\")\n",
       "```\n",
       "\n",
       "Here's a slightly more succinct solution using a conditional expression:\n",
       "\n",
       "```python\n",
       "print(\"Splitting\", total_candies, \"candy\" if total_candies == 1 else \"candies\")\n",
       "```"
      ],
      "text/plain": [
       "Solution: A straightforward (and totally fine) solution is to replace the original `print` call with:\n",
       "\n",
       "```python\n",
       "if total_candies == 1:\n",
       "    print(\"Splitting 1 candy\")\n",
       "else:\n",
       "    print(\"Splitting\", total_candies, \"candies\")\n",
       "```\n",
       "\n",
       "Here's a slightly more succinct solution using a conditional expression:\n",
       "\n",
       "```python\n",
       "print(\"Splitting\", total_candies, \"candy\" if total_candies == 1 else \"candies\")\n",
       "```"
      ]
     },
     "metadata": {},
     "output_type": "display_data"
    }
   ],
   "source": [
    "# Check your answer (Run this code cell to receive credit!)\n",
    "q2.solution()"
   ]
  },
  {
   "cell_type": "markdown",
   "id": "6392686e",
   "metadata": {
    "papermill": {
     "duration": 0.013902,
     "end_time": "2024-05-30T15:11:26.606967",
     "exception": false,
     "start_time": "2024-05-30T15:11:26.593065",
     "status": "completed"
    },
    "tags": []
   },
   "source": [
    "# 3. <span title=\"A bit spicy\" style=\"color: darkgreen \">🌶️</span>\n",
    "\n",
    "In the tutorial, we talked about deciding whether we're prepared for the weather. I said that I'm safe from today's weather if...\n",
    "- I have an umbrella...\n",
    "- or if the rain isn't too heavy and I have a hood...\n",
    "- otherwise, I'm still fine unless it's raining *and* it's a workday\n",
    "\n",
    "The function below uses our first attempt at turning this logic into a Python expression. I claimed that there was a bug in that code. Can you find it?\n",
    "\n",
    "To prove that `prepared_for_weather` is buggy, come up with a set of inputs where either:\n",
    "- the function returns `False` (but should have returned `True`), or\n",
    "- the function returned `True` (but should have returned `False`).\n",
    "\n",
    "To get credit for completing this question, your code should return a <font color='#33cc33'>Correct</font> result."
   ]
  },
  {
   "cell_type": "code",
   "execution_count": 8,
   "id": "5e246d6d",
   "metadata": {
    "execution": {
     "iopub.execute_input": "2024-05-30T15:11:26.638514Z",
     "iopub.status.busy": "2024-05-30T15:11:26.638065Z",
     "iopub.status.idle": "2024-05-30T15:11:26.646265Z",
     "shell.execute_reply": "2024-05-30T15:11:26.645165Z"
    },
    "papermill": {
     "duration": 0.027493,
     "end_time": "2024-05-30T15:11:26.649906",
     "exception": false,
     "start_time": "2024-05-30T15:11:26.622413",
     "status": "completed"
    },
    "tags": []
   },
   "outputs": [
    {
     "name": "stdout",
     "output_type": "stream",
     "text": [
      "Case 1 Result: False\n",
      "Case 2 Result: False\n"
     ]
    }
   ],
   "source": [
    "def prepared_for_weather(have_umbrella, rain_level, have_hood, is_workday):\n",
    "    \"\"\"\n",
    "    Return whether the person is prepared for the weather based on the given conditions.\"\"\"\n",
    "    # Check if it's raining\n",
    "    is_raining = rain_level > 0\n",
    "    \n",
    "    # If it's raining, the person should have an umbrella or a hood\n",
    "    if is_raining:\n",
    "        return have_umbrella or have_hood\n",
    "    \n",
    "    # If it's not raining and it's a workday, the person should have an umbrella\n",
    "    if is_workday:\n",
    "        return have_umbrella\n",
    "    \n",
    "    # Otherwise, the person is prepared\n",
    "    return True\n",
    "\n",
    "# Case 1: The function returns False (but should have returned True)\n",
    "result_case1 = prepared_for_weather(False, 0.5, False, True)\n",
    "print(\"Case 1 Result:\", result_case1)  # Expected: True\n",
    "\n",
    "# Case 2: The function returns True (but should have returned False)\n",
    "result_case2 = prepared_for_weather(False, 0, False, True)\n",
    "print(\"Case 2 Result:\", result_case2)  # Expected: False\n"
   ]
  },
  {
   "cell_type": "code",
   "execution_count": 9,
   "id": "318fd88d",
   "metadata": {
    "execution": {
     "iopub.execute_input": "2024-05-30T15:11:26.679687Z",
     "iopub.status.busy": "2024-05-30T15:11:26.679313Z",
     "iopub.status.idle": "2024-05-30T15:11:26.692902Z",
     "shell.execute_reply": "2024-05-30T15:11:26.691617Z"
    },
    "papermill": {
     "duration": 0.031554,
     "end_time": "2024-05-30T15:11:26.695819",
     "exception": false,
     "start_time": "2024-05-30T15:11:26.664265",
     "status": "completed"
    },
    "tags": []
   },
   "outputs": [
    {
     "data": {
      "application/javascript": [
       "parent.postMessage({\"jupyterEvent\": \"custom.exercise_interaction\", \"data\": {\"interactionType\": 2, \"questionType\": 1, \"questionId\": \"3_WeatherDebug\", \"learnToolsVersion\": \"0.3.4\", \"valueTowardsCompletion\": 0.0, \"failureMessage\": \"\", \"exceptionClass\": \"\", \"trace\": \"\", \"outcomeType\": 4}}, \"*\")"
      ],
      "text/plain": [
       "<IPython.core.display.Javascript object>"
      ]
     },
     "metadata": {},
     "output_type": "display_data"
    },
    {
     "data": {
      "text/markdown": [
       "<span style=\"color:#3366cc\">Hint:</span> Take a look at how we fixed our original expression in the main lesson. We added parentheses around certain subexpressions. The bug in this code is caused by Python evaluating certain operations in the \"wrong\" order."
      ],
      "text/plain": [
       "Hint: Take a look at how we fixed our original expression in the main lesson. We added parentheses around certain subexpressions. The bug in this code is caused by Python evaluating certain operations in the \"wrong\" order."
      ]
     },
     "metadata": {},
     "output_type": "display_data"
    },
    {
     "data": {
      "application/javascript": [
       "parent.postMessage({\"jupyterEvent\": \"custom.exercise_interaction\", \"data\": {\"interactionType\": 3, \"questionType\": 1, \"questionId\": \"3_WeatherDebug\", \"learnToolsVersion\": \"0.3.4\", \"valueTowardsCompletion\": 0.0, \"failureMessage\": \"\", \"exceptionClass\": \"\", \"trace\": \"\", \"outcomeType\": 4}}, \"*\")"
      ],
      "text/plain": [
       "<IPython.core.display.Javascript object>"
      ]
     },
     "metadata": {},
     "output_type": "display_data"
    },
    {
     "data": {
      "text/markdown": [
       "<span style=\"color:#33cc99\">Solution:</span> One example of a failing test case is:\n",
       "\n",
       "```python\n",
       "have_umbrella = False\n",
       "rain_level = 0.0\n",
       "have_hood = False\n",
       "is_workday = False\n",
       "```\n",
       "\n",
       "Clearly we're prepared for the weather in this case. It's not raining. Not only that, it's not a workday, so we don't even need to leave the house! But our function will return False on these inputs.\n",
       "\n",
       "The key problem is that Python implictly parenthesizes the last part as:\n",
       "\n",
       "```python\n",
       "(not (rain_level > 0)) and is_workday\n",
       "```\n",
       "\n",
       "Whereas what we were trying to express would look more like:\n",
       "\n",
       "```python\n",
       "not (rain_level > 0 and is_workday)\n",
       "```\n"
      ],
      "text/plain": [
       "Solution: One example of a failing test case is:\n",
       "\n",
       "```python\n",
       "have_umbrella = False\n",
       "rain_level = 0.0\n",
       "have_hood = False\n",
       "is_workday = False\n",
       "```\n",
       "\n",
       "Clearly we're prepared for the weather in this case. It's not raining. Not only that, it's not a workday, so we don't even need to leave the house! But our function will return False on these inputs.\n",
       "\n",
       "The key problem is that Python implictly parenthesizes the last part as:\n",
       "\n",
       "```python\n",
       "(not (rain_level > 0)) and is_workday\n",
       "```\n",
       "\n",
       "Whereas what we were trying to express would look more like:\n",
       "\n",
       "```python\n",
       "not (rain_level > 0 and is_workday)\n",
       "```"
      ]
     },
     "metadata": {},
     "output_type": "display_data"
    }
   ],
   "source": [
    "q3.hint()\n",
    "q3.solution()"
   ]
  },
  {
   "cell_type": "markdown",
   "id": "71602793",
   "metadata": {
    "papermill": {
     "duration": 0.014527,
     "end_time": "2024-05-30T15:11:26.725196",
     "exception": false,
     "start_time": "2024-05-30T15:11:26.710669",
     "status": "completed"
    },
    "tags": []
   },
   "source": [
    "# 4.\n",
    "\n",
    "The function `is_negative` below is implemented correctly - it returns True if the given number is negative and False otherwise.\n",
    "\n",
    "However, it's more verbose than it needs to be. We can actually reduce the number of lines of code in this function by *75%* while keeping the same behaviour. \n",
    "\n",
    "See if you can come up with an equivalent body that uses just **one line** of code, and put it in the function `concise_is_negative`. (HINT: you don't even need Python's ternary syntax)"
   ]
  },
  {
   "cell_type": "code",
   "execution_count": 10,
   "id": "3a0cdc50",
   "metadata": {
    "execution": {
     "iopub.execute_input": "2024-05-30T15:11:26.757897Z",
     "iopub.status.busy": "2024-05-30T15:11:26.757488Z",
     "iopub.status.idle": "2024-05-30T15:11:26.767817Z",
     "shell.execute_reply": "2024-05-30T15:11:26.766577Z"
    },
    "papermill": {
     "duration": 0.029722,
     "end_time": "2024-05-30T15:11:26.770446",
     "exception": false,
     "start_time": "2024-05-30T15:11:26.740724",
     "status": "completed"
    },
    "tags": []
   },
   "outputs": [
    {
     "data": {
      "application/javascript": [
       "parent.postMessage({\"jupyterEvent\": \"custom.exercise_interaction\", \"data\": {\"outcomeType\": 1, \"valueTowardsCompletion\": 0.2, \"interactionType\": 1, \"questionType\": 2, \"questionId\": \"4_ConciseIsNegative\", \"learnToolsVersion\": \"0.3.4\", \"failureMessage\": \"\", \"exceptionClass\": \"\", \"trace\": \"\"}}, \"*\")"
      ],
      "text/plain": [
       "<IPython.core.display.Javascript object>"
      ]
     },
     "metadata": {},
     "output_type": "display_data"
    },
    {
     "data": {
      "text/markdown": [
       "<span style=\"color:#33cc33\">Correct</span>"
      ],
      "text/plain": [
       "Correct"
      ]
     },
     "metadata": {},
     "output_type": "display_data"
    }
   ],
   "source": [
    "def is_negative(number):\n",
    "    if number < 0:\n",
    "        return True\n",
    "    else:\n",
    "        return False\n",
    "\n",
    "def concise_is_negative(number):\n",
    "    \n",
    "    return number < 0\n",
    "# Check your answer\n",
    "q4.check()"
   ]
  },
  {
   "cell_type": "code",
   "execution_count": 11,
   "id": "34a3e0ec",
   "metadata": {
    "execution": {
     "iopub.execute_input": "2024-05-30T15:11:26.802718Z",
     "iopub.status.busy": "2024-05-30T15:11:26.802321Z",
     "iopub.status.idle": "2024-05-30T15:11:26.812118Z",
     "shell.execute_reply": "2024-05-30T15:11:26.810948Z"
    },
    "papermill": {
     "duration": 0.028826,
     "end_time": "2024-05-30T15:11:26.814625",
     "exception": false,
     "start_time": "2024-05-30T15:11:26.785799",
     "status": "completed"
    },
    "tags": []
   },
   "outputs": [
    {
     "data": {
      "application/javascript": [
       "parent.postMessage({\"jupyterEvent\": \"custom.exercise_interaction\", \"data\": {\"interactionType\": 3, \"questionType\": 2, \"questionId\": \"4_ConciseIsNegative\", \"learnToolsVersion\": \"0.3.4\", \"valueTowardsCompletion\": 0.0, \"failureMessage\": \"\", \"exceptionClass\": \"\", \"trace\": \"\", \"outcomeType\": 4}}, \"*\")"
      ],
      "text/plain": [
       "<IPython.core.display.Javascript object>"
      ]
     },
     "metadata": {},
     "output_type": "display_data"
    },
    {
     "data": {
      "text/markdown": [
       "<span style=\"color:#33cc99\">Solution:</span> \n",
       "```python\n",
       "return number < 0\n",
       "```"
      ],
      "text/plain": [
       "Solution: \n",
       "```python\n",
       "return number < 0\n",
       "```"
      ]
     },
     "metadata": {},
     "output_type": "display_data"
    }
   ],
   "source": [
    "#q4.hint()\n",
    "q4.solution()"
   ]
  },
  {
   "cell_type": "markdown",
   "id": "a359588e",
   "metadata": {
    "papermill": {
     "duration": 0.015081,
     "end_time": "2024-05-30T15:11:26.844922",
     "exception": false,
     "start_time": "2024-05-30T15:11:26.829841",
     "status": "completed"
    },
    "tags": []
   },
   "source": [
    "# 5a.\n",
    "\n",
    "The boolean variables `ketchup`, `mustard` and `onion` represent whether a customer wants a particular topping on their hot dog. We want to implement a number of boolean functions that correspond to some yes-or-no questions about the customer's order. For example:"
   ]
  },
  {
   "cell_type": "code",
   "execution_count": 12,
   "id": "4e471805",
   "metadata": {
    "execution": {
     "iopub.execute_input": "2024-05-30T15:11:26.881358Z",
     "iopub.status.busy": "2024-05-30T15:11:26.880770Z",
     "iopub.status.idle": "2024-05-30T15:11:26.887439Z",
     "shell.execute_reply": "2024-05-30T15:11:26.886210Z"
    },
    "papermill": {
     "duration": 0.028799,
     "end_time": "2024-05-30T15:11:26.890319",
     "exception": false,
     "start_time": "2024-05-30T15:11:26.861520",
     "status": "completed"
    },
    "tags": []
   },
   "outputs": [],
   "source": [
    "def onionless(ketchup, mustard, onion):\n",
    "    \"\"\"Return whether the customer doesn't want onions.\n",
    "    \"\"\"\n",
    "    return not onion"
   ]
  },
  {
   "cell_type": "code",
   "execution_count": 13,
   "id": "281fc285",
   "metadata": {
    "execution": {
     "iopub.execute_input": "2024-05-30T15:11:26.933391Z",
     "iopub.status.busy": "2024-05-30T15:11:26.932652Z",
     "iopub.status.idle": "2024-05-30T15:11:26.947212Z",
     "shell.execute_reply": "2024-05-30T15:11:26.946210Z"
    },
    "papermill": {
     "duration": 0.040565,
     "end_time": "2024-05-30T15:11:26.949556",
     "exception": false,
     "start_time": "2024-05-30T15:11:26.908991",
     "status": "completed"
    },
    "tags": []
   },
   "outputs": [
    {
     "data": {
      "application/javascript": [
       "parent.postMessage({\"jupyterEvent\": \"custom.exercise_interaction\", \"data\": {\"outcomeType\": 1, \"valueTowardsCompletion\": 0.2, \"interactionType\": 1, \"questionType\": 2, \"questionId\": \"5.1_AllToppings\", \"learnToolsVersion\": \"0.3.4\", \"failureMessage\": \"\", \"exceptionClass\": \"\", \"trace\": \"\"}}, \"*\")"
      ],
      "text/plain": [
       "<IPython.core.display.Javascript object>"
      ]
     },
     "metadata": {},
     "output_type": "display_data"
    },
    {
     "data": {
      "text/markdown": [
       "<span style=\"color:#33cc33\">Correct</span>"
      ],
      "text/plain": [
       "Correct"
      ]
     },
     "metadata": {},
     "output_type": "display_data"
    }
   ],
   "source": [
    "def wants_all_toppings(ketchup, mustard, onion):\n",
    "    \"\"\"Return whether the customer wants \"the works\" (all 3 toppings)\n",
    "    \"\"\"\n",
    "    return ketchup and mustard and onion\n",
    "\n",
    "# Check your answer\n",
    "q5.a.check()"
   ]
  },
  {
   "cell_type": "code",
   "execution_count": 14,
   "id": "62da1095",
   "metadata": {
    "execution": {
     "iopub.execute_input": "2024-05-30T15:11:26.983322Z",
     "iopub.status.busy": "2024-05-30T15:11:26.982873Z",
     "iopub.status.idle": "2024-05-30T15:11:26.992446Z",
     "shell.execute_reply": "2024-05-30T15:11:26.991171Z"
    },
    "papermill": {
     "duration": 0.029517,
     "end_time": "2024-05-30T15:11:26.994733",
     "exception": false,
     "start_time": "2024-05-30T15:11:26.965216",
     "status": "completed"
    },
    "tags": []
   },
   "outputs": [
    {
     "data": {
      "application/javascript": [
       "parent.postMessage({\"jupyterEvent\": \"custom.exercise_interaction\", \"data\": {\"interactionType\": 3, \"questionType\": 2, \"questionId\": \"5.1_AllToppings\", \"learnToolsVersion\": \"0.3.4\", \"valueTowardsCompletion\": 0.0, \"failureMessage\": \"\", \"exceptionClass\": \"\", \"trace\": \"\", \"outcomeType\": 4}}, \"*\")"
      ],
      "text/plain": [
       "<IPython.core.display.Javascript object>"
      ]
     },
     "metadata": {},
     "output_type": "display_data"
    },
    {
     "data": {
      "text/markdown": [
       "<span style=\"color:#33cc99\">Solution:</span> \n",
       "```python\n",
       "return ketchup and mustard and onion\n",
       "```"
      ],
      "text/plain": [
       "Solution: \n",
       "```python\n",
       "return ketchup and mustard and onion\n",
       "```"
      ]
     },
     "metadata": {},
     "output_type": "display_data"
    }
   ],
   "source": [
    "#q5.a.hint()\n",
    "q5.a.solution()"
   ]
  },
  {
   "cell_type": "markdown",
   "id": "6fefd009",
   "metadata": {
    "papermill": {
     "duration": 0.017111,
     "end_time": "2024-05-30T15:11:27.028206",
     "exception": false,
     "start_time": "2024-05-30T15:11:27.011095",
     "status": "completed"
    },
    "tags": []
   },
   "source": [
    "# 5b.\n",
    "\n",
    "For the next function, fill in the body to match the English description in the docstring. "
   ]
  },
  {
   "cell_type": "code",
   "execution_count": 15,
   "id": "8f98cef8",
   "metadata": {
    "execution": {
     "iopub.execute_input": "2024-05-30T15:11:27.065236Z",
     "iopub.status.busy": "2024-05-30T15:11:27.063998Z",
     "iopub.status.idle": "2024-05-30T15:11:27.071927Z",
     "shell.execute_reply": "2024-05-30T15:11:27.069972Z"
    },
    "papermill": {
     "duration": 0.03028,
     "end_time": "2024-05-30T15:11:27.075933",
     "exception": false,
     "start_time": "2024-05-30T15:11:27.045653",
     "status": "completed"
    },
    "tags": []
   },
   "outputs": [],
   "source": [
    "def wants_plain_hotdog(ketchup, mustard, onion):\n",
    "    \"\"\"Return whether the customer wants a plain hot dog with no toppings.\"\"\"\n",
    "    return not (ketchup or mustard or onion)\n"
   ]
  },
  {
   "cell_type": "code",
   "execution_count": 16,
   "id": "59da3408",
   "metadata": {
    "execution": {
     "iopub.execute_input": "2024-05-30T15:11:27.122724Z",
     "iopub.status.busy": "2024-05-30T15:11:27.122198Z",
     "iopub.status.idle": "2024-05-30T15:11:27.132900Z",
     "shell.execute_reply": "2024-05-30T15:11:27.130902Z"
    },
    "papermill": {
     "duration": 0.041697,
     "end_time": "2024-05-30T15:11:27.136598",
     "exception": false,
     "start_time": "2024-05-30T15:11:27.094901",
     "status": "completed"
    },
    "tags": []
   },
   "outputs": [],
   "source": [
    "#q5.b.hint()\n",
    "#q5.b.solution()"
   ]
  },
  {
   "cell_type": "markdown",
   "id": "0ee4a361",
   "metadata": {
    "papermill": {
     "duration": 0.024405,
     "end_time": "2024-05-30T15:11:27.186888",
     "exception": false,
     "start_time": "2024-05-30T15:11:27.162483",
     "status": "completed"
    },
    "tags": []
   },
   "source": [
    "# 5c.\n",
    "\n",
    "You know what to do: for the next function, fill in the body to match the English description in the docstring."
   ]
  },
  {
   "cell_type": "code",
   "execution_count": 17,
   "id": "485a73ac",
   "metadata": {
    "execution": {
     "iopub.execute_input": "2024-05-30T15:11:27.291200Z",
     "iopub.status.busy": "2024-05-30T15:11:27.290759Z",
     "iopub.status.idle": "2024-05-30T15:11:27.296363Z",
     "shell.execute_reply": "2024-05-30T15:11:27.295196Z"
    },
    "papermill": {
     "duration": 0.090776,
     "end_time": "2024-05-30T15:11:27.298745",
     "exception": false,
     "start_time": "2024-05-30T15:11:27.207969",
     "status": "completed"
    },
    "tags": []
   },
   "outputs": [],
   "source": [
    "def exactly_one_sauce(ketchup, mustard, onion):\n",
    "    \"\"\"Return whether the customer wants either ketchup or mustard, but not both.\"\"\"\n",
    "    return (ketchup and not mustard) or (mustard and not ketchup)\n"
   ]
  },
  {
   "cell_type": "code",
   "execution_count": 18,
   "id": "03123282",
   "metadata": {
    "execution": {
     "iopub.execute_input": "2024-05-30T15:11:27.338957Z",
     "iopub.status.busy": "2024-05-30T15:11:27.338455Z",
     "iopub.status.idle": "2024-05-30T15:11:27.343677Z",
     "shell.execute_reply": "2024-05-30T15:11:27.342435Z"
    },
    "papermill": {
     "duration": 0.029959,
     "end_time": "2024-05-30T15:11:27.346832",
     "exception": false,
     "start_time": "2024-05-30T15:11:27.316873",
     "status": "completed"
    },
    "tags": []
   },
   "outputs": [],
   "source": [
    "#q5.c.hint()\n",
    "#q5.c.solution()"
   ]
  },
  {
   "cell_type": "markdown",
   "id": "55e77fb2",
   "metadata": {
    "papermill": {
     "duration": 0.016647,
     "end_time": "2024-05-30T15:11:27.380209",
     "exception": false,
     "start_time": "2024-05-30T15:11:27.363562",
     "status": "completed"
    },
    "tags": []
   },
   "source": [
    "# 6. <span title=\"A bit spicy\" style=\"color: darkgreen \">🌶️</span>\n",
    "\n",
    "We’ve seen that calling `bool()` on an integer returns `False` if it’s equal to 0 and `True` otherwise. What happens if we call `int()` on a bool? Try it out in the notebook cell below.\n",
    "\n",
    "Can you take advantage of this to write a succinct function that corresponds to the English sentence \"does the customer want exactly one topping?\"?"
   ]
  },
  {
   "cell_type": "code",
   "execution_count": 19,
   "id": "704cf694",
   "metadata": {
    "execution": {
     "iopub.execute_input": "2024-05-30T15:11:27.417933Z",
     "iopub.status.busy": "2024-05-30T15:11:27.416737Z",
     "iopub.status.idle": "2024-05-30T15:11:27.423020Z",
     "shell.execute_reply": "2024-05-30T15:11:27.422054Z"
    },
    "papermill": {
     "duration": 0.027725,
     "end_time": "2024-05-30T15:11:27.426548",
     "exception": false,
     "start_time": "2024-05-30T15:11:27.398823",
     "status": "completed"
    },
    "tags": []
   },
   "outputs": [],
   "source": [
    "def exactly_one_topping(ketchup, mustard, onion):\n",
    "    \"\"\"Return whether the customer wants exactly one of the three available toppings\n",
    "    on their hot dog.\"\"\"\n",
    "    return int(ketchup) + int(mustard) + int(onion) == 1\n"
   ]
  },
  {
   "cell_type": "code",
   "execution_count": 20,
   "id": "f5a6f5fc",
   "metadata": {
    "execution": {
     "iopub.execute_input": "2024-05-30T15:11:27.461240Z",
     "iopub.status.busy": "2024-05-30T15:11:27.460445Z",
     "iopub.status.idle": "2024-05-30T15:11:27.465523Z",
     "shell.execute_reply": "2024-05-30T15:11:27.464310Z"
    },
    "papermill": {
     "duration": 0.025489,
     "end_time": "2024-05-30T15:11:27.468208",
     "exception": false,
     "start_time": "2024-05-30T15:11:27.442719",
     "status": "completed"
    },
    "tags": []
   },
   "outputs": [],
   "source": [
    "#q6.hint()\n",
    "#q6.solution()"
   ]
  },
  {
   "cell_type": "markdown",
   "id": "7143293e",
   "metadata": {
    "papermill": {
     "duration": 0.015774,
     "end_time": "2024-05-30T15:11:27.500940",
     "exception": false,
     "start_time": "2024-05-30T15:11:27.485166",
     "status": "completed"
    },
    "tags": []
   },
   "source": [
    "# 7. <span title=\"A bit spicy\" style=\"color: darkgreen \">🌶️</span> (Optional)\n",
    "\n",
    "In this problem we'll be working with a simplified version of [blackjack](https://en.wikipedia.org/wiki/Blackjack) (aka twenty-one). In this version there is one player (who you'll control) and a dealer. Play proceeds as follows:\n",
    "\n",
    "- The player is dealt two face-up cards. The dealer is dealt one face-up card.\n",
    "- The player may ask to be dealt another card ('hit') as many times as they wish. If the sum of their cards exceeds 21, they lose the round immediately.\n",
    "- The dealer then deals additional cards to himself until either:\n",
    "    - the sum of the dealer's cards exceeds 21, in which case the player wins the round\n",
    "    - the sum of the dealer's cards is greater than or equal to 17. If the player's total is greater than the dealer's, the player wins. Otherwise, the dealer wins (even in case of a tie).\n",
    "    \n",
    "When calculating the sum of cards, Jack, Queen, and King count for 10. Aces can count as 1 or 11 (when referring to a player's \"total\" above, we mean the largest total that can be made without exceeding 21. So e.g. A+8 = 19, A+8+8 = 17)\n",
    "\n",
    "For this problem, you'll write a function representing the player's decision-making strategy in this game. We've provided a very unintelligent implementation below:"
   ]
  },
  {
   "cell_type": "code",
   "execution_count": 21,
   "id": "810cb512",
   "metadata": {
    "execution": {
     "iopub.execute_input": "2024-05-30T15:11:27.538643Z",
     "iopub.status.busy": "2024-05-30T15:11:27.537726Z",
     "iopub.status.idle": "2024-05-30T15:11:27.546598Z",
     "shell.execute_reply": "2024-05-30T15:11:27.545653Z"
    },
    "papermill": {
     "duration": 0.031324,
     "end_time": "2024-05-30T15:11:27.549385",
     "exception": false,
     "start_time": "2024-05-30T15:11:27.518061",
     "status": "completed"
    },
    "tags": []
   },
   "outputs": [],
   "source": [
    "def should_hit(dealer_total, player_total, player_low_aces, player_high_aces):\n",
    "    \"\"\"\n",
    "    Return True if the player should hit (request another card) given the current game\n",
    "    state, or False if the player should stay.\n",
    "    \n",
    "    When calculating a hand's total value, we count aces as \"high\" (with value 11) if doing so\n",
    "    doesn't bring the total above 21, otherwise we count them as low (with value 1).\n",
    "    \"\"\"\n",
    "    # If the player's total is less than 17, always hit\n",
    "    if player_total < 17:\n",
    "        return True\n",
    "    \n",
    "    # If the player has a soft total (ace counted as 11), consider hitting based on different scenarios\n",
    "    if player_high_aces > 0:\n",
    "        # If player's total is less than or equal to 17, always hit\n",
    "        if player_total <= 17:\n",
    "            return True\n",
    "        # If player's total is 18 and dealer's showing card is 9, 10, or ace, hit\n",
    "        if player_total == 18 and dealer_total in [9, 10, 11]:\n",
    "            return True\n",
    "        # If player's total is 19 or 20, never hit\n",
    "        if player_total >= 19:\n",
    "            return False\n",
    "    \n",
    "    # If the player's total is 17 or more, and there are no aces or the aces are counted as 1\n",
    "    # Consider staying unless player's total is less than dealer's showing card\n",
    "    return player_total < dealer_total\n"
   ]
  },
  {
   "cell_type": "markdown",
   "id": "9f2df949",
   "metadata": {
    "papermill": {
     "duration": 0.016461,
     "end_time": "2024-05-30T15:11:27.583082",
     "exception": false,
     "start_time": "2024-05-30T15:11:27.566621",
     "status": "completed"
    },
    "tags": []
   },
   "source": [
    "This very conservative agent *always* sticks with the hand of two cards that they're dealt.\n",
    "\n",
    "We'll be simulating games between your player agent and our own dealer agent by calling your function.\n",
    "\n",
    "Try running the function below to see an example of a simulated game:"
   ]
  },
  {
   "cell_type": "code",
   "execution_count": 22,
   "id": "38515f5c",
   "metadata": {
    "execution": {
     "iopub.execute_input": "2024-05-30T15:11:27.619156Z",
     "iopub.status.busy": "2024-05-30T15:11:27.618734Z",
     "iopub.status.idle": "2024-05-30T15:11:27.624555Z",
     "shell.execute_reply": "2024-05-30T15:11:27.623287Z"
    },
    "papermill": {
     "duration": 0.026159,
     "end_time": "2024-05-30T15:11:27.627049",
     "exception": false,
     "start_time": "2024-05-30T15:11:27.600890",
     "status": "completed"
    },
    "tags": []
   },
   "outputs": [
    {
     "name": "stdout",
     "output_type": "stream",
     "text": [
      "Player starts with 9 and 5 (total = 14)\n",
      "Dealer starts with 5\n",
      "\n",
      "__Player's turn__\n",
      "Player hits and receives 8. (total = 22)\n",
      "Player busts! Dealer wins.\n"
     ]
    }
   ],
   "source": [
    "q7.simulate_one_game()"
   ]
  },
  {
   "cell_type": "markdown",
   "id": "dbf25f92",
   "metadata": {
    "papermill": {
     "duration": 0.016555,
     "end_time": "2024-05-30T15:11:27.659749",
     "exception": false,
     "start_time": "2024-05-30T15:11:27.643194",
     "status": "completed"
    },
    "tags": []
   },
   "source": [
    "The real test of your agent's mettle is their average win rate over many games. Try calling the function below to simulate 50000 games of blackjack (it may take a couple seconds):"
   ]
  },
  {
   "cell_type": "code",
   "execution_count": 23,
   "id": "36bcdb77",
   "metadata": {
    "execution": {
     "iopub.execute_input": "2024-05-30T15:11:27.694136Z",
     "iopub.status.busy": "2024-05-30T15:11:27.693375Z",
     "iopub.status.idle": "2024-05-30T15:11:30.083481Z",
     "shell.execute_reply": "2024-05-30T15:11:30.082427Z"
    },
    "papermill": {
     "duration": 2.410362,
     "end_time": "2024-05-30T15:11:30.086133",
     "exception": false,
     "start_time": "2024-05-30T15:11:27.675771",
     "status": "completed"
    },
    "tags": []
   },
   "outputs": [
    {
     "name": "stdout",
     "output_type": "stream",
     "text": [
      "Player won 20472 out of 50000 games (win rate = 40.9%)\n"
     ]
    }
   ],
   "source": [
    "q7.simulate(n_games=50000)"
   ]
  },
  {
   "cell_type": "markdown",
   "id": "48a439be",
   "metadata": {
    "papermill": {
     "duration": 0.015923,
     "end_time": "2024-05-30T15:11:30.118234",
     "exception": false,
     "start_time": "2024-05-30T15:11:30.102311",
     "status": "completed"
    },
    "tags": []
   },
   "source": [
    "Our dumb agent that completely ignores the game state still manages to win shockingly often!\n",
    "\n",
    "Try adding some more smarts to the `should_hit` function and see how it affects the results."
   ]
  },
  {
   "cell_type": "code",
   "execution_count": 24,
   "id": "67e80ac8",
   "metadata": {
    "execution": {
     "iopub.execute_input": "2024-05-30T15:11:30.154216Z",
     "iopub.status.busy": "2024-05-30T15:11:30.153757Z",
     "iopub.status.idle": "2024-05-30T15:11:30.161865Z",
     "shell.execute_reply": "2024-05-30T15:11:30.160184Z"
    },
    "papermill": {
     "duration": 0.029054,
     "end_time": "2024-05-30T15:11:30.164550",
     "exception": false,
     "start_time": "2024-05-30T15:11:30.135496",
     "status": "completed"
    },
    "tags": []
   },
   "outputs": [],
   "source": [
    "def should_hit(dealer_total, player_total, player_low_aces, player_high_aces):\n",
    "    \"\"\"Return True if the player should hit (request another card) given the current game\n",
    "    state, or False if the player should stay.\n",
    "    \n",
    "    When calculating a hand's total value, we count aces as \"high\" (with value 11) if doing so\n",
    "    doesn't bring the total above 21, otherwise we count them as low (with value 1). \n",
    "    \"\"\"\n",
    "    # If the player's total is less than 12, always hit\n",
    "    if player_total < 12:\n",
    "        return True\n",
    "    \n",
    "    # If the player's total is between 12 and 16, consider hitting based on dealer's showing card\n",
    "    if 12 <= player_total <= 16:\n",
    "        # If dealer's showing card is 7 or higher, and player has no aces, hit\n",
    "        if dealer_total >= 7 and player_low_aces == 0:\n",
    "            return True\n",
    "        # If dealer's showing card is 10 or ace, and player has no aces, hit\n",
    "        if dealer_total in [10, 11] and player_low_aces == 0:\n",
    "            return True\n",
    "        # Otherwise, stay\n",
    "        return False\n",
    "    \n",
    "    # If the player's total is 17 or more, and there are no aces or the aces are counted as 1\n",
    "    # Consider staying unless player's total is less than dealer's showing card\n",
    "    return player_total < dealer_total\n"
   ]
  },
  {
   "cell_type": "markdown",
   "id": "a83ce800",
   "metadata": {
    "papermill": {
     "duration": 0.016862,
     "end_time": "2024-05-30T15:11:30.199608",
     "exception": false,
     "start_time": "2024-05-30T15:11:30.182746",
     "status": "completed"
    },
    "tags": []
   },
   "source": [
    "# Keep Going\n",
    "\n",
    "Learn about **[lists and tuples](https://www.kaggle.com/colinmorris/lists)** to handle multiple items of data in a systematic way."
   ]
  },
  {
   "cell_type": "markdown",
   "id": "d0ceae47",
   "metadata": {
    "papermill": {
     "duration": 0.015953,
     "end_time": "2024-05-30T15:11:30.231687",
     "exception": false,
     "start_time": "2024-05-30T15:11:30.215734",
     "status": "completed"
    },
    "tags": []
   },
   "source": [
    "---\n",
    "\n",
    "\n",
    "\n",
    "\n",
    "*Have questions or comments? Visit the [course discussion forum](https://www.kaggle.com/learn/python/discussion) to chat with other learners.*"
   ]
  },
  {
   "cell_type": "code",
   "execution_count": null,
   "id": "36c334f1",
   "metadata": {
    "papermill": {
     "duration": 0.015668,
     "end_time": "2024-05-30T15:11:30.263374",
     "exception": false,
     "start_time": "2024-05-30T15:11:30.247706",
     "status": "completed"
    },
    "tags": []
   },
   "outputs": [],
   "source": []
  }
 ],
 "metadata": {
  "kaggle": {
   "accelerator": "none",
   "dataSources": [],
   "isGpuEnabled": false,
   "isInternetEnabled": false,
   "language": "python",
   "sourceType": "notebook"
  },
  "kernelspec": {
   "display_name": "Python 3",
   "language": "python",
   "name": "python3"
  },
  "language_info": {
   "codemirror_mode": {
    "name": "ipython",
    "version": 3
   },
   "file_extension": ".py",
   "mimetype": "text/x-python",
   "name": "python",
   "nbconvert_exporter": "python",
   "pygments_lexer": "ipython3",
   "version": "3.10.13"
  },
  "learntools_metadata": {
   "lesson_index": 2,
   "type": "exercise"
  },
  "papermill": {
   "default_parameters": {},
   "duration": 8.955907,
   "end_time": "2024-05-30T15:11:30.800601",
   "environment_variables": {},
   "exception": null,
   "input_path": "__notebook__.ipynb",
   "output_path": "__notebook__.ipynb",
   "parameters": {},
   "start_time": "2024-05-30T15:11:21.844694",
   "version": "2.5.0"
  }
 },
 "nbformat": 4,
 "nbformat_minor": 5
}
