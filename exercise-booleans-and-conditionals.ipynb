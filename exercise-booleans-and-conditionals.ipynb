{
 "cells": [
  {
   "cell_type": "markdown",
   "id": "c24761c6",
   "metadata": {
    "papermill": {
     "duration": 0.013162,
     "end_time": "2024-05-30T14:13:51.305692",
     "exception": false,
     "start_time": "2024-05-30T14:13:51.292530",
     "status": "completed"
    },
    "tags": []
   },
   "source": [
    "**This notebook is an exercise in the [Python](https://www.kaggle.com/learn/python) course.  You can reference the tutorial at [this link](https://www.kaggle.com/colinmorris/booleans-and-conditionals).**\n",
    "\n",
    "---\n"
   ]
  },
  {
   "cell_type": "markdown",
   "id": "f8472dbf",
   "metadata": {
    "papermill": {
     "duration": 0.012278,
     "end_time": "2024-05-30T14:13:51.330793",
     "exception": false,
     "start_time": "2024-05-30T14:13:51.318515",
     "status": "completed"
    },
    "tags": []
   },
   "source": [
    "In this exercise, you'll put to work what you have learned about booleans and conditionals.\n",
    "\n",
    "To get started, **run the setup code below** before writing your own code (and if you leave this notebook and come back later, don't forget to run the setup code again)."
   ]
  },
  {
   "cell_type": "code",
   "execution_count": 1,
   "id": "47587ff0",
   "metadata": {
    "execution": {
     "iopub.execute_input": "2024-05-30T14:13:51.358466Z",
     "iopub.status.busy": "2024-05-30T14:13:51.357836Z",
     "iopub.status.idle": "2024-05-30T14:13:52.513487Z",
     "shell.execute_reply": "2024-05-30T14:13:52.512026Z"
    },
    "papermill": {
     "duration": 1.172414,
     "end_time": "2024-05-30T14:13:52.516214",
     "exception": false,
     "start_time": "2024-05-30T14:13:51.343800",
     "status": "completed"
    },
    "tags": []
   },
   "outputs": [
    {
     "name": "stdout",
     "output_type": "stream",
     "text": [
      "Setup complete.\n"
     ]
    }
   ],
   "source": [
    "from learntools.core import binder; binder.bind(globals())\n",
    "from learntools.python.ex3 import *\n",
    "print('Setup complete.')"
   ]
  },
  {
   "cell_type": "markdown",
   "id": "6a035c24",
   "metadata": {
    "papermill": {
     "duration": 0.012182,
     "end_time": "2024-05-30T14:13:52.540672",
     "exception": false,
     "start_time": "2024-05-30T14:13:52.528490",
     "status": "completed"
    },
    "tags": []
   },
   "source": [
    "# 1.\n",
    "\n",
    "Many programming languages have [`sign`](https://en.wikipedia.org/wiki/Sign_function) available as a built-in function. Python doesn't, but we can define our own!\n",
    "\n",
    "In the cell below, define a function called `sign` which takes a numerical argument and returns -1 if it's negative, 1 if it's positive, and 0 if it's 0."
   ]
  },
  {
   "cell_type": "code",
   "execution_count": 2,
   "id": "e7686d87",
   "metadata": {
    "execution": {
     "iopub.execute_input": "2024-05-30T14:13:52.567190Z",
     "iopub.status.busy": "2024-05-30T14:13:52.566581Z",
     "iopub.status.idle": "2024-05-30T14:13:52.579150Z",
     "shell.execute_reply": "2024-05-30T14:13:52.578014Z"
    },
    "papermill": {
     "duration": 0.028691,
     "end_time": "2024-05-30T14:13:52.581616",
     "exception": false,
     "start_time": "2024-05-30T14:13:52.552925",
     "status": "completed"
    },
    "tags": []
   },
   "outputs": [
    {
     "data": {
      "application/javascript": [
       "parent.postMessage({\"jupyterEvent\": \"custom.exercise_interaction\", \"data\": {\"outcomeType\": 1, \"valueTowardsCompletion\": 0.2, \"interactionType\": 1, \"questionType\": 2, \"questionId\": \"1_SignFunctionProblem\", \"learnToolsVersion\": \"0.3.4\", \"failureMessage\": \"\", \"exceptionClass\": \"\", \"trace\": \"\"}}, \"*\")"
      ],
      "text/plain": [
       "<IPython.core.display.Javascript object>"
      ]
     },
     "metadata": {},
     "output_type": "display_data"
    },
    {
     "data": {
      "text/markdown": [
       "<span style=\"color:#33cc33\">Correct</span>"
      ],
      "text/plain": [
       "Correct"
      ]
     },
     "metadata": {},
     "output_type": "display_data"
    }
   ],
   "source": [
    "def sign(x):\n",
    "    \"\"\"Return the sign of the given number x.\n",
    "    \n",
    "    Returns 1 if x is positive,\n",
    "    -1 if x is negative,\n",
    "    and 0 if x is zero.\n",
    "    \"\"\"\n",
    "    if x > 0:\n",
    "        return 1\n",
    "    elif x < 0:\n",
    "        return -1\n",
    "    else:\n",
    "        return 0\n",
    "\n",
    "# Check your answer\n",
    "q1.check()\n"
   ]
  },
  {
   "cell_type": "code",
   "execution_count": 3,
   "id": "444dc26c",
   "metadata": {
    "execution": {
     "iopub.execute_input": "2024-05-30T14:13:52.609216Z",
     "iopub.status.busy": "2024-05-30T14:13:52.608771Z",
     "iopub.status.idle": "2024-05-30T14:13:52.613803Z",
     "shell.execute_reply": "2024-05-30T14:13:52.612463Z"
    },
    "papermill": {
     "duration": 0.022275,
     "end_time": "2024-05-30T14:13:52.616224",
     "exception": false,
     "start_time": "2024-05-30T14:13:52.593949",
     "status": "completed"
    },
    "tags": []
   },
   "outputs": [],
   "source": [
    "#q1.solution()"
   ]
  },
  {
   "cell_type": "markdown",
   "id": "9b73082b",
   "metadata": {
    "papermill": {
     "duration": 0.01256,
     "end_time": "2024-05-30T14:13:52.641878",
     "exception": false,
     "start_time": "2024-05-30T14:13:52.629318",
     "status": "completed"
    },
    "tags": []
   },
   "source": [
    "# 2.\n",
    "\n",
    "We've decided to add \"logging\" to our `to_smash` function from the previous exercise."
   ]
  },
  {
   "cell_type": "code",
   "execution_count": 4,
   "id": "1d405ee8",
   "metadata": {
    "execution": {
     "iopub.execute_input": "2024-05-30T14:13:52.668865Z",
     "iopub.status.busy": "2024-05-30T14:13:52.668396Z",
     "iopub.status.idle": "2024-05-30T14:13:52.675958Z",
     "shell.execute_reply": "2024-05-30T14:13:52.674691Z"
    },
    "papermill": {
     "duration": 0.024537,
     "end_time": "2024-05-30T14:13:52.678941",
     "exception": false,
     "start_time": "2024-05-30T14:13:52.654404",
     "status": "completed"
    },
    "tags": []
   },
   "outputs": [
    {
     "name": "stdout",
     "output_type": "stream",
     "text": [
      "Splitting 91 candies\n",
      "1\n",
      "Splitting 1 candies\n",
      "1\n"
     ]
    }
   ],
   "source": [
    "def to_smash(total_candies):\n",
    "    \"\"\"Return the number of leftover candies that must be smashed after distributing\n",
    "    the given number of candies evenly between 3 friends.\n",
    "    \n",
    "    >>> to_smash(91)\n",
    "    1\n",
    "    \"\"\"\n",
    "    print(\"Splitting\", total_candies, \"candies\")\n",
    "    return total_candies % 3\n",
    "\n",
    "# Example usage\n",
    "print(to_smash(91))\n",
    "print(to_smash(1))\n"
   ]
  },
  {
   "cell_type": "markdown",
   "id": "48b14531",
   "metadata": {
    "papermill": {
     "duration": 0.012356,
     "end_time": "2024-05-30T14:13:52.706136",
     "exception": false,
     "start_time": "2024-05-30T14:13:52.693780",
     "status": "completed"
    },
    "tags": []
   },
   "source": [
    "What happens if we call it with `total_candies = 1`?"
   ]
  },
  {
   "cell_type": "code",
   "execution_count": 5,
   "id": "f22a9458",
   "metadata": {
    "execution": {
     "iopub.execute_input": "2024-05-30T14:13:52.734810Z",
     "iopub.status.busy": "2024-05-30T14:13:52.733961Z",
     "iopub.status.idle": "2024-05-30T14:13:52.742052Z",
     "shell.execute_reply": "2024-05-30T14:13:52.740410Z"
    },
    "papermill": {
     "duration": 0.026074,
     "end_time": "2024-05-30T14:13:52.744825",
     "exception": false,
     "start_time": "2024-05-30T14:13:52.718751",
     "status": "completed"
    },
    "tags": []
   },
   "outputs": [
    {
     "name": "stdout",
     "output_type": "stream",
     "text": [
      "Splitting 1 candies\n"
     ]
    },
    {
     "data": {
      "text/plain": [
       "1"
      ]
     },
     "execution_count": 5,
     "metadata": {},
     "output_type": "execute_result"
    }
   ],
   "source": [
    "to_smash(1)"
   ]
  },
  {
   "cell_type": "markdown",
   "id": "394d10c0",
   "metadata": {
    "papermill": {
     "duration": 0.01292,
     "end_time": "2024-05-30T14:13:52.770567",
     "exception": false,
     "start_time": "2024-05-30T14:13:52.757647",
     "status": "completed"
    },
    "tags": []
   },
   "source": [
    "That isn't great grammar!\n",
    "\n",
    "Modify the definition in the cell below to correct the grammar of our print statement. (If there's only one candy, we should use the singular \"candy\" instead of the plural \"candies\")"
   ]
  },
  {
   "cell_type": "code",
   "execution_count": 6,
   "id": "814e9090",
   "metadata": {
    "execution": {
     "iopub.execute_input": "2024-05-30T14:13:52.798490Z",
     "iopub.status.busy": "2024-05-30T14:13:52.798063Z",
     "iopub.status.idle": "2024-05-30T14:13:52.804793Z",
     "shell.execute_reply": "2024-05-30T14:13:52.803636Z"
    },
    "papermill": {
     "duration": 0.023769,
     "end_time": "2024-05-30T14:13:52.807363",
     "exception": false,
     "start_time": "2024-05-30T14:13:52.783594",
     "status": "completed"
    },
    "tags": []
   },
   "outputs": [
    {
     "name": "stdout",
     "output_type": "stream",
     "text": [
      "Splitting 1 candy\n"
     ]
    }
   ],
   "source": [
    "def to_smash(total_candies):\n",
    "    if total_candies == 1:\n",
    "        print(\"Splitting 1 candy\")\n",
    "    else:\n",
    "        print(\"Splitting\", total_candies, \"candies\")\n",
    "\n",
    "to_smash(1)\n"
   ]
  },
  {
   "cell_type": "markdown",
   "id": "72744260",
   "metadata": {
    "papermill": {
     "duration": 0.012798,
     "end_time": "2024-05-30T14:13:52.833724",
     "exception": false,
     "start_time": "2024-05-30T14:13:52.820926",
     "status": "completed"
    },
    "tags": []
   },
   "source": [
    "To get credit for completing this problem, and to see the official answer, run the code cell below."
   ]
  },
  {
   "cell_type": "markdown",
   "id": "d53c0d4f",
   "metadata": {
    "papermill": {
     "duration": 0.013041,
     "end_time": "2024-05-30T14:13:52.861531",
     "exception": false,
     "start_time": "2024-05-30T14:13:52.848490",
     "status": "completed"
    },
    "tags": []
   },
   "source": [
    "# 3. <span title=\"A bit spicy\" style=\"color: darkgreen \">🌶️</span>\n",
    "\n",
    "In the tutorial, we talked about deciding whether we're prepared for the weather. I said that I'm safe from today's weather if...\n",
    "- I have an umbrella...\n",
    "- or if the rain isn't too heavy and I have a hood...\n",
    "- otherwise, I'm still fine unless it's raining *and* it's a workday\n",
    "\n",
    "The function below uses our first attempt at turning this logic into a Python expression. I claimed that there was a bug in that code. Can you find it?\n",
    "\n",
    "To prove that `prepared_for_weather` is buggy, come up with a set of inputs where either:\n",
    "- the function returns `False` (but should have returned `True`), or\n",
    "- the function returned `True` (but should have returned `False`).\n",
    "\n",
    "To get credit for completing this question, your code should return a <font color='#33cc33'>Correct</font> result."
   ]
  },
  {
   "cell_type": "code",
   "execution_count": 7,
   "id": "bb3982f3",
   "metadata": {
    "execution": {
     "iopub.execute_input": "2024-05-30T14:13:52.889778Z",
     "iopub.status.busy": "2024-05-30T14:13:52.889316Z",
     "iopub.status.idle": "2024-05-30T14:13:52.898014Z",
     "shell.execute_reply": "2024-05-30T14:13:52.896253Z"
    },
    "papermill": {
     "duration": 0.025864,
     "end_time": "2024-05-30T14:13:52.900409",
     "exception": false,
     "start_time": "2024-05-30T14:13:52.874545",
     "status": "completed"
    },
    "tags": []
   },
   "outputs": [
    {
     "name": "stdout",
     "output_type": "stream",
     "text": [
      "True\n"
     ]
    }
   ],
   "source": [
    "def prepared_for_weather(have_umbrella, rain_level, have_hood, is_workday):\n",
    "    # Add parentheses to fix the logic\n",
    "    return have_umbrella or (rain_level < 5 and have_hood) or (not (rain_level > 0 and is_workday))\n",
    "\n",
    "# Test the function with the provided inputs\n",
    "have_umbrella = True\n",
    "rain_level = 0.0\n",
    "have_hood = True\n",
    "is_workday = True\n",
    "\n",
    "actual = prepared_for_weather(have_umbrella, rain_level, have_hood, is_workday)\n",
    "print(actual)  # Output should be False\n"
   ]
  },
  {
   "cell_type": "code",
   "execution_count": 8,
   "id": "19f4effc",
   "metadata": {
    "execution": {
     "iopub.execute_input": "2024-05-30T14:13:52.928088Z",
     "iopub.status.busy": "2024-05-30T14:13:52.927680Z",
     "iopub.status.idle": "2024-05-30T14:13:52.937364Z",
     "shell.execute_reply": "2024-05-30T14:13:52.936066Z"
    },
    "papermill": {
     "duration": 0.026293,
     "end_time": "2024-05-30T14:13:52.939805",
     "exception": false,
     "start_time": "2024-05-30T14:13:52.913512",
     "status": "completed"
    },
    "tags": []
   },
   "outputs": [
    {
     "data": {
      "application/javascript": [
       "parent.postMessage({\"jupyterEvent\": \"custom.exercise_interaction\", \"data\": {\"interactionType\": 3, \"questionType\": 1, \"questionId\": \"3_WeatherDebug\", \"learnToolsVersion\": \"0.3.4\", \"valueTowardsCompletion\": 0.0, \"failureMessage\": \"\", \"exceptionClass\": \"\", \"trace\": \"\", \"outcomeType\": 4}}, \"*\")"
      ],
      "text/plain": [
       "<IPython.core.display.Javascript object>"
      ]
     },
     "metadata": {},
     "output_type": "display_data"
    },
    {
     "data": {
      "text/markdown": [
       "<span style=\"color:#33cc99\">Solution:</span> One example of a failing test case is:\n",
       "\n",
       "```python\n",
       "have_umbrella = False\n",
       "rain_level = 0.0\n",
       "have_hood = False\n",
       "is_workday = False\n",
       "```\n",
       "\n",
       "Clearly we're prepared for the weather in this case. It's not raining. Not only that, it's not a workday, so we don't even need to leave the house! But our function will return False on these inputs.\n",
       "\n",
       "The key problem is that Python implictly parenthesizes the last part as:\n",
       "\n",
       "```python\n",
       "(not (rain_level > 0)) and is_workday\n",
       "```\n",
       "\n",
       "Whereas what we were trying to express would look more like:\n",
       "\n",
       "```python\n",
       "not (rain_level > 0 and is_workday)\n",
       "```\n"
      ],
      "text/plain": [
       "Solution: One example of a failing test case is:\n",
       "\n",
       "```python\n",
       "have_umbrella = False\n",
       "rain_level = 0.0\n",
       "have_hood = False\n",
       "is_workday = False\n",
       "```\n",
       "\n",
       "Clearly we're prepared for the weather in this case. It's not raining. Not only that, it's not a workday, so we don't even need to leave the house! But our function will return False on these inputs.\n",
       "\n",
       "The key problem is that Python implictly parenthesizes the last part as:\n",
       "\n",
       "```python\n",
       "(not (rain_level > 0)) and is_workday\n",
       "```\n",
       "\n",
       "Whereas what we were trying to express would look more like:\n",
       "\n",
       "```python\n",
       "not (rain_level > 0 and is_workday)\n",
       "```"
      ]
     },
     "metadata": {},
     "output_type": "display_data"
    }
   ],
   "source": [
    "#q3.hint()\n",
    "q3.solution()"
   ]
  },
  {
   "cell_type": "markdown",
   "id": "33b9c4dc",
   "metadata": {
    "papermill": {
     "duration": 0.013405,
     "end_time": "2024-05-30T14:13:52.966949",
     "exception": false,
     "start_time": "2024-05-30T14:13:52.953544",
     "status": "completed"
    },
    "tags": []
   },
   "source": [
    "# 4.\n",
    "\n",
    "The function `is_negative` below is implemented correctly - it returns True if the given number is negative and False otherwise.\n",
    "\n",
    "However, it's more verbose than it needs to be. We can actually reduce the number of lines of code in this function by *75%* while keeping the same behaviour. \n",
    "\n",
    "See if you can come up with an equivalent body that uses just **one line** of code, and put it in the function `concise_is_negative`. (HINT: you don't even need Python's ternary syntax)"
   ]
  },
  {
   "cell_type": "code",
   "execution_count": 9,
   "id": "e8f3b53a",
   "metadata": {
    "execution": {
     "iopub.execute_input": "2024-05-30T14:13:52.998302Z",
     "iopub.status.busy": "2024-05-30T14:13:52.997670Z",
     "iopub.status.idle": "2024-05-30T14:13:53.004577Z",
     "shell.execute_reply": "2024-05-30T14:13:53.003275Z"
    },
    "papermill": {
     "duration": 0.026496,
     "end_time": "2024-05-30T14:13:53.007798",
     "exception": false,
     "start_time": "2024-05-30T14:13:52.981302",
     "status": "completed"
    },
    "tags": []
   },
   "outputs": [],
   "source": [
    "def is_negative(number):\n",
    "    if number < 0:\n",
    "        return True\n",
    "    else:\n",
    "        return False\n",
    "\n",
    "def concise_is_negative(number):\n",
    "    return number < 0"
   ]
  },
  {
   "cell_type": "code",
   "execution_count": 10,
   "id": "71759c29",
   "metadata": {
    "execution": {
     "iopub.execute_input": "2024-05-30T14:13:53.039215Z",
     "iopub.status.busy": "2024-05-30T14:13:53.038766Z",
     "iopub.status.idle": "2024-05-30T14:13:53.051318Z",
     "shell.execute_reply": "2024-05-30T14:13:53.049793Z"
    },
    "papermill": {
     "duration": 0.03231,
     "end_time": "2024-05-30T14:13:53.054534",
     "exception": false,
     "start_time": "2024-05-30T14:13:53.022224",
     "status": "completed"
    },
    "tags": []
   },
   "outputs": [
    {
     "data": {
      "application/javascript": [
       "parent.postMessage({\"jupyterEvent\": \"custom.exercise_interaction\", \"data\": {\"interactionType\": 3, \"questionType\": 2, \"questionId\": \"4_ConciseIsNegative\", \"learnToolsVersion\": \"0.3.4\", \"valueTowardsCompletion\": 0.0, \"failureMessage\": \"\", \"exceptionClass\": \"\", \"trace\": \"\", \"outcomeType\": 4}}, \"*\")"
      ],
      "text/plain": [
       "<IPython.core.display.Javascript object>"
      ]
     },
     "metadata": {},
     "output_type": "display_data"
    },
    {
     "data": {
      "text/markdown": [
       "<span style=\"color:#33cc99\">Solution:</span> \n",
       "```python\n",
       "return number < 0\n",
       "```"
      ],
      "text/plain": [
       "Solution: \n",
       "```python\n",
       "return number < 0\n",
       "```"
      ]
     },
     "metadata": {},
     "output_type": "display_data"
    }
   ],
   "source": [
    "#q4.hint()\n",
    "q4.solution()"
   ]
  },
  {
   "cell_type": "markdown",
   "id": "e161441f",
   "metadata": {
    "papermill": {
     "duration": 0.015061,
     "end_time": "2024-05-30T14:13:53.083536",
     "exception": false,
     "start_time": "2024-05-30T14:13:53.068475",
     "status": "completed"
    },
    "tags": []
   },
   "source": [
    "# 5a.\n",
    "\n",
    "The boolean variables `ketchup`, `mustard` and `onion` represent whether a customer wants a particular topping on their hot dog. We want to implement a number of boolean functions that correspond to some yes-or-no questions about the customer's order. For example:"
   ]
  },
  {
   "cell_type": "code",
   "execution_count": 11,
   "id": "9222dbe2",
   "metadata": {
    "execution": {
     "iopub.execute_input": "2024-05-30T14:13:53.115659Z",
     "iopub.status.busy": "2024-05-30T14:13:53.115246Z",
     "iopub.status.idle": "2024-05-30T14:13:53.120677Z",
     "shell.execute_reply": "2024-05-30T14:13:53.119462Z"
    },
    "papermill": {
     "duration": 0.024318,
     "end_time": "2024-05-30T14:13:53.123380",
     "exception": false,
     "start_time": "2024-05-30T14:13:53.099062",
     "status": "completed"
    },
    "tags": []
   },
   "outputs": [],
   "source": [
    "def onionless(ketchup, mustard, onion):\n",
    "    \"\"\"Return whether the customer doesn't want onions.\n",
    "    \"\"\"\n",
    "    return not onion"
   ]
  },
  {
   "cell_type": "code",
   "execution_count": 12,
   "id": "4c67c09f",
   "metadata": {
    "execution": {
     "iopub.execute_input": "2024-05-30T14:13:53.152821Z",
     "iopub.status.busy": "2024-05-30T14:13:53.152422Z",
     "iopub.status.idle": "2024-05-30T14:13:53.158136Z",
     "shell.execute_reply": "2024-05-30T14:13:53.156910Z"
    },
    "papermill": {
     "duration": 0.023404,
     "end_time": "2024-05-30T14:13:53.160585",
     "exception": false,
     "start_time": "2024-05-30T14:13:53.137181",
     "status": "completed"
    },
    "tags": []
   },
   "outputs": [],
   "source": [
    "def wants_all_toppings(ketchup, mustard, onion):\n",
    "    \"\"\"Return whether the customer wants \"the works\" (all 3 toppings)\n",
    "    \"\"\"\n",
    "    return ketchup and mustard and onion\n"
   ]
  },
  {
   "cell_type": "code",
   "execution_count": 13,
   "id": "9ee4e8ff",
   "metadata": {
    "execution": {
     "iopub.execute_input": "2024-05-30T14:13:53.192351Z",
     "iopub.status.busy": "2024-05-30T14:13:53.191841Z",
     "iopub.status.idle": "2024-05-30T14:13:53.203964Z",
     "shell.execute_reply": "2024-05-30T14:13:53.202589Z"
    },
    "papermill": {
     "duration": 0.032517,
     "end_time": "2024-05-30T14:13:53.207290",
     "exception": false,
     "start_time": "2024-05-30T14:13:53.174773",
     "status": "completed"
    },
    "tags": []
   },
   "outputs": [
    {
     "data": {
      "application/javascript": [
       "parent.postMessage({\"jupyterEvent\": \"custom.exercise_interaction\", \"data\": {\"interactionType\": 3, \"questionType\": 2, \"questionId\": \"5.1_AllToppings\", \"learnToolsVersion\": \"0.3.4\", \"valueTowardsCompletion\": 0.0, \"failureMessage\": \"\", \"exceptionClass\": \"\", \"trace\": \"\", \"outcomeType\": 4}}, \"*\")"
      ],
      "text/plain": [
       "<IPython.core.display.Javascript object>"
      ]
     },
     "metadata": {},
     "output_type": "display_data"
    },
    {
     "data": {
      "text/markdown": [
       "<span style=\"color:#33cc99\">Solution:</span> \n",
       "```python\n",
       "return ketchup and mustard and onion\n",
       "```"
      ],
      "text/plain": [
       "Solution: \n",
       "```python\n",
       "return ketchup and mustard and onion\n",
       "```"
      ]
     },
     "metadata": {},
     "output_type": "display_data"
    }
   ],
   "source": [
    "#q5.a.hint()\n",
    "q5.a.solution()"
   ]
  },
  {
   "cell_type": "markdown",
   "id": "52bf6f4a",
   "metadata": {
    "papermill": {
     "duration": 0.014323,
     "end_time": "2024-05-30T14:13:53.236499",
     "exception": false,
     "start_time": "2024-05-30T14:13:53.222176",
     "status": "completed"
    },
    "tags": []
   },
   "source": [
    "# 5b.\n",
    "\n",
    "For the next function, fill in the body to match the English description in the docstring. "
   ]
  },
  {
   "cell_type": "code",
   "execution_count": 14,
   "id": "72969d4c",
   "metadata": {
    "execution": {
     "iopub.execute_input": "2024-05-30T14:13:53.270914Z",
     "iopub.status.busy": "2024-05-30T14:13:53.270428Z",
     "iopub.status.idle": "2024-05-30T14:13:53.281473Z",
     "shell.execute_reply": "2024-05-30T14:13:53.280370Z"
    },
    "papermill": {
     "duration": 0.03181,
     "end_time": "2024-05-30T14:13:53.284519",
     "exception": false,
     "start_time": "2024-05-30T14:13:53.252709",
     "status": "completed"
    },
    "tags": []
   },
   "outputs": [
    {
     "data": {
      "application/javascript": [
       "parent.postMessage({\"jupyterEvent\": \"custom.exercise_interaction\", \"data\": {\"outcomeType\": 1, \"valueTowardsCompletion\": 0.2, \"interactionType\": 1, \"questionType\": 2, \"questionId\": \"5.2_PlainDog\", \"learnToolsVersion\": \"0.3.4\", \"failureMessage\": \"\", \"exceptionClass\": \"\", \"trace\": \"\"}}, \"*\")"
      ],
      "text/plain": [
       "<IPython.core.display.Javascript object>"
      ]
     },
     "metadata": {},
     "output_type": "display_data"
    },
    {
     "data": {
      "text/markdown": [
       "<span style=\"color:#33cc33\">Correct:</span> \n",
       "\n",
       "One solution looks like:\n",
       "```python\n",
       "return not ketchup and not mustard and not onion\n",
       "```\n",
       "\n",
       "We can also [\"factor out\" the nots](https://en.wikipedia.org/wiki/De_Morgan%27s_laws) to get:\n",
       "\n",
       "```python\n",
       "return not (ketchup or mustard or onion)\n",
       "```"
      ],
      "text/plain": [
       "Correct: \n",
       "\n",
       "One solution looks like:\n",
       "```python\n",
       "return not ketchup and not mustard and not onion\n",
       "```\n",
       "\n",
       "We can also [\"factor out\" the nots](https://en.wikipedia.org/wiki/De_Morgan%27s_laws) to get:\n",
       "\n",
       "```python\n",
       "return not (ketchup or mustard or onion)\n",
       "```"
      ]
     },
     "metadata": {},
     "output_type": "display_data"
    }
   ],
   "source": [
    "def wants_plain_hotdog(ketchup, mustard, onion):\n",
    "    \"\"\"Return whether the customer wants a plain hot dog with no toppings.\n",
    "    \"\"\"\n",
    "    return not ketchup and not mustard and not onion\n",
    "\n",
    "# Check your answer\n",
    "q5.b.check()"
   ]
  },
  {
   "cell_type": "code",
   "execution_count": 15,
   "id": "2b93322c",
   "metadata": {
    "execution": {
     "iopub.execute_input": "2024-05-30T14:13:53.318408Z",
     "iopub.status.busy": "2024-05-30T14:13:53.317869Z",
     "iopub.status.idle": "2024-05-30T14:13:53.334028Z",
     "shell.execute_reply": "2024-05-30T14:13:53.332566Z"
    },
    "papermill": {
     "duration": 0.037591,
     "end_time": "2024-05-30T14:13:53.337208",
     "exception": false,
     "start_time": "2024-05-30T14:13:53.299617",
     "status": "completed"
    },
    "tags": []
   },
   "outputs": [
    {
     "data": {
      "application/javascript": [
       "parent.postMessage({\"jupyterEvent\": \"custom.exercise_interaction\", \"data\": {\"interactionType\": 2, \"questionType\": 2, \"questionId\": \"5.2_PlainDog\", \"learnToolsVersion\": \"0.3.4\", \"valueTowardsCompletion\": 0.0, \"failureMessage\": \"\", \"exceptionClass\": \"\", \"trace\": \"\", \"outcomeType\": 4}}, \"*\")"
      ],
      "text/plain": [
       "<IPython.core.display.Javascript object>"
      ]
     },
     "metadata": {},
     "output_type": "display_data"
    },
    {
     "data": {
      "text/markdown": [
       "<span style=\"color:#3366cc\">Hint:</span> You'll need to use the `not` operator."
      ],
      "text/plain": [
       "Hint: You'll need to use the `not` operator."
      ]
     },
     "metadata": {},
     "output_type": "display_data"
    },
    {
     "data": {
      "application/javascript": [
       "parent.postMessage({\"jupyterEvent\": \"custom.exercise_interaction\", \"data\": {\"interactionType\": 3, \"questionType\": 2, \"questionId\": \"5.2_PlainDog\", \"learnToolsVersion\": \"0.3.4\", \"valueTowardsCompletion\": 0.0, \"failureMessage\": \"\", \"exceptionClass\": \"\", \"trace\": \"\", \"outcomeType\": 4}}, \"*\")"
      ],
      "text/plain": [
       "<IPython.core.display.Javascript object>"
      ]
     },
     "metadata": {},
     "output_type": "display_data"
    },
    {
     "data": {
      "text/markdown": [
       "<span style=\"color:#33cc99\">Solution:</span> One solution looks like:\n",
       "```python\n",
       "return not ketchup and not mustard and not onion\n",
       "```\n",
       "\n",
       "We can also [\"factor out\" the nots](https://en.wikipedia.org/wiki/De_Morgan%27s_laws) to get:\n",
       "\n",
       "```python\n",
       "return not (ketchup or mustard or onion)\n",
       "```"
      ],
      "text/plain": [
       "Solution: One solution looks like:\n",
       "```python\n",
       "return not ketchup and not mustard and not onion\n",
       "```\n",
       "\n",
       "We can also [\"factor out\" the nots](https://en.wikipedia.org/wiki/De_Morgan%27s_laws) to get:\n",
       "\n",
       "```python\n",
       "return not (ketchup or mustard or onion)\n",
       "```"
      ]
     },
     "metadata": {},
     "output_type": "display_data"
    }
   ],
   "source": [
    "q5.b.hint()\n",
    "q5.b.solution()"
   ]
  },
  {
   "cell_type": "markdown",
   "id": "9ce05166",
   "metadata": {
    "papermill": {
     "duration": 0.016686,
     "end_time": "2024-05-30T14:13:53.370867",
     "exception": false,
     "start_time": "2024-05-30T14:13:53.354181",
     "status": "completed"
    },
    "tags": []
   },
   "source": [
    "# 5c.\n",
    "\n",
    "You know what to do: for the next function, fill in the body to match the English description in the docstring."
   ]
  },
  {
   "cell_type": "code",
   "execution_count": 16,
   "id": "ce0b18cd",
   "metadata": {
    "execution": {
     "iopub.execute_input": "2024-05-30T14:13:53.406992Z",
     "iopub.status.busy": "2024-05-30T14:13:53.406481Z",
     "iopub.status.idle": "2024-05-30T14:13:53.419683Z",
     "shell.execute_reply": "2024-05-30T14:13:53.418181Z"
    },
    "papermill": {
     "duration": 0.034596,
     "end_time": "2024-05-30T14:13:53.422828",
     "exception": false,
     "start_time": "2024-05-30T14:13:53.388232",
     "status": "completed"
    },
    "tags": []
   },
   "outputs": [
    {
     "data": {
      "application/javascript": [
       "parent.postMessage({\"jupyterEvent\": \"custom.exercise_interaction\", \"data\": {\"outcomeType\": 1, \"valueTowardsCompletion\": 0.2, \"interactionType\": 1, \"questionType\": 2, \"questionId\": \"5.3_OneSauce\", \"learnToolsVersion\": \"0.3.4\", \"failureMessage\": \"\", \"exceptionClass\": \"\", \"trace\": \"\"}}, \"*\")"
      ],
      "text/plain": [
       "<IPython.core.display.Javascript object>"
      ]
     },
     "metadata": {},
     "output_type": "display_data"
    },
    {
     "data": {
      "text/markdown": [
       "<span style=\"color:#33cc33\">Correct</span>"
      ],
      "text/plain": [
       "Correct"
      ]
     },
     "metadata": {},
     "output_type": "display_data"
    }
   ],
   "source": [
    "def exactly_one_sauce(ketchup, mustard, onion):\n",
    "    \"\"\"Return whether the customer wants either ketchup or mustard, but not both.\n",
    "    (You may be familiar with this operation under the name \"exclusive or\")\n",
    "    \"\"\"\n",
    "    return (ketchup and not mustard) or (mustard and not ketchup)\n",
    "\n",
    "\n",
    "# Check your answer\n",
    "q5.c.check()"
   ]
  },
  {
   "cell_type": "code",
   "execution_count": 17,
   "id": "d2d55599",
   "metadata": {
    "execution": {
     "iopub.execute_input": "2024-05-30T14:13:53.460077Z",
     "iopub.status.busy": "2024-05-30T14:13:53.459570Z",
     "iopub.status.idle": "2024-05-30T14:13:53.470854Z",
     "shell.execute_reply": "2024-05-30T14:13:53.469522Z"
    },
    "papermill": {
     "duration": 0.033658,
     "end_time": "2024-05-30T14:13:53.474167",
     "exception": false,
     "start_time": "2024-05-30T14:13:53.440509",
     "status": "completed"
    },
    "tags": []
   },
   "outputs": [
    {
     "data": {
      "application/javascript": [
       "parent.postMessage({\"jupyterEvent\": \"custom.exercise_interaction\", \"data\": {\"interactionType\": 3, \"questionType\": 2, \"questionId\": \"5.3_OneSauce\", \"learnToolsVersion\": \"0.3.4\", \"valueTowardsCompletion\": 0.0, \"failureMessage\": \"\", \"exceptionClass\": \"\", \"trace\": \"\", \"outcomeType\": 4}}, \"*\")"
      ],
      "text/plain": [
       "<IPython.core.display.Javascript object>"
      ]
     },
     "metadata": {},
     "output_type": "display_data"
    },
    {
     "data": {
      "text/markdown": [
       "<span style=\"color:#33cc99\">Solution:</span> \n",
       "```python\n",
       "return (ketchup and not mustard) or (mustard and not ketchup)\n",
       "```"
      ],
      "text/plain": [
       "Solution: \n",
       "```python\n",
       "return (ketchup and not mustard) or (mustard and not ketchup)\n",
       "```"
      ]
     },
     "metadata": {},
     "output_type": "display_data"
    }
   ],
   "source": [
    "#q5.c.hint()\n",
    "q5.c.solution()"
   ]
  },
  {
   "cell_type": "markdown",
   "id": "66083e5a",
   "metadata": {
    "papermill": {
     "duration": 0.016745,
     "end_time": "2024-05-30T14:13:53.507636",
     "exception": false,
     "start_time": "2024-05-30T14:13:53.490891",
     "status": "completed"
    },
    "tags": []
   },
   "source": [
    "# 6. <span title=\"A bit spicy\" style=\"color: darkgreen \">🌶️</span>\n",
    "\n",
    "We’ve seen that calling `bool()` on an integer returns `False` if it’s equal to 0 and `True` otherwise. What happens if we call `int()` on a bool? Try it out in the notebook cell below.\n",
    "\n",
    "Can you take advantage of this to write a succinct function that corresponds to the English sentence \"does the customer want exactly one topping?\"?"
   ]
  },
  {
   "cell_type": "code",
   "execution_count": 18,
   "id": "fe453083",
   "metadata": {
    "execution": {
     "iopub.execute_input": "2024-05-30T14:13:53.545789Z",
     "iopub.status.busy": "2024-05-30T14:13:53.545272Z",
     "iopub.status.idle": "2024-05-30T14:13:53.557610Z",
     "shell.execute_reply": "2024-05-30T14:13:53.556167Z"
    },
    "papermill": {
     "duration": 0.036226,
     "end_time": "2024-05-30T14:13:53.561565",
     "exception": false,
     "start_time": "2024-05-30T14:13:53.525339",
     "status": "completed"
    },
    "tags": []
   },
   "outputs": [
    {
     "data": {
      "application/javascript": [
       "parent.postMessage({\"jupyterEvent\": \"custom.exercise_interaction\", \"data\": {\"outcomeType\": 1, \"valueTowardsCompletion\": 0.2, \"interactionType\": 1, \"questionType\": 2, \"questionId\": \"6_OneTopping\", \"learnToolsVersion\": \"0.3.4\", \"failureMessage\": \"\", \"exceptionClass\": \"\", \"trace\": \"\"}}, \"*\")"
      ],
      "text/plain": [
       "<IPython.core.display.Javascript object>"
      ]
     },
     "metadata": {},
     "output_type": "display_data"
    },
    {
     "data": {
      "text/markdown": [
       "<span style=\"color:#33cc33\">Correct:</span> \n",
       "\n",
       "This condition would be pretty complicated to express using just `and`, `or` and `not`, but using boolean-to-integer conversion gives us this short solution:\n",
       "```python\n",
       "return (int(ketchup) + int(mustard) + int(onion)) == 1\n",
       "```\n",
       "\n",
       "Fun fact: we don't technically need to call `int` on the arguments. Just by doing addition with booleans, Python implicitly does the integer conversion. So we could also write...\n",
       "\n",
       "```python\n",
       "return (ketchup + mustard + onion) == 1\n",
       "```"
      ],
      "text/plain": [
       "Correct: \n",
       "\n",
       "This condition would be pretty complicated to express using just `and`, `or` and `not`, but using boolean-to-integer conversion gives us this short solution:\n",
       "```python\n",
       "return (int(ketchup) + int(mustard) + int(onion)) == 1\n",
       "```\n",
       "\n",
       "Fun fact: we don't technically need to call `int` on the arguments. Just by doing addition with booleans, Python implicitly does the integer conversion. So we could also write...\n",
       "\n",
       "```python\n",
       "return (ketchup + mustard + onion) == 1\n",
       "```"
      ]
     },
     "metadata": {},
     "output_type": "display_data"
    }
   ],
   "source": [
    "def exactly_one_topping(ketchup, mustard, onion):\n",
    "    \"\"\"Return whether the customer wants exactly one of the three available toppings\n",
    "    on their hot dog.\n",
    "    \"\"\"\n",
    "    return (int(ketchup) + int(mustard) + int(onion)) == 1\n",
    "\n",
    "\n",
    "# Check your answer\n",
    "q6.check()"
   ]
  },
  {
   "cell_type": "code",
   "execution_count": 19,
   "id": "4a14fbb0",
   "metadata": {
    "execution": {
     "iopub.execute_input": "2024-05-30T14:13:53.599060Z",
     "iopub.status.busy": "2024-05-30T14:13:53.598474Z",
     "iopub.status.idle": "2024-05-30T14:13:53.610578Z",
     "shell.execute_reply": "2024-05-30T14:13:53.608956Z"
    },
    "papermill": {
     "duration": 0.034532,
     "end_time": "2024-05-30T14:13:53.613645",
     "exception": false,
     "start_time": "2024-05-30T14:13:53.579113",
     "status": "completed"
    },
    "tags": []
   },
   "outputs": [
    {
     "data": {
      "application/javascript": [
       "parent.postMessage({\"jupyterEvent\": \"custom.exercise_interaction\", \"data\": {\"interactionType\": 3, \"questionType\": 2, \"questionId\": \"6_OneTopping\", \"learnToolsVersion\": \"0.3.4\", \"valueTowardsCompletion\": 0.0, \"failureMessage\": \"\", \"exceptionClass\": \"\", \"trace\": \"\", \"outcomeType\": 4}}, \"*\")"
      ],
      "text/plain": [
       "<IPython.core.display.Javascript object>"
      ]
     },
     "metadata": {},
     "output_type": "display_data"
    },
    {
     "data": {
      "text/markdown": [
       "<span style=\"color:#33cc99\">Solution:</span> This condition would be pretty complicated to express using just `and`, `or` and `not`, but using boolean-to-integer conversion gives us this short solution:\n",
       "```python\n",
       "return (int(ketchup) + int(mustard) + int(onion)) == 1\n",
       "```\n",
       "\n",
       "Fun fact: we don't technically need to call `int` on the arguments. Just by doing addition with booleans, Python implicitly does the integer conversion. So we could also write...\n",
       "\n",
       "```python\n",
       "return (ketchup + mustard + onion) == 1\n",
       "```"
      ],
      "text/plain": [
       "Solution: This condition would be pretty complicated to express using just `and`, `or` and `not`, but using boolean-to-integer conversion gives us this short solution:\n",
       "```python\n",
       "return (int(ketchup) + int(mustard) + int(onion)) == 1\n",
       "```\n",
       "\n",
       "Fun fact: we don't technically need to call `int` on the arguments. Just by doing addition with booleans, Python implicitly does the integer conversion. So we could also write...\n",
       "\n",
       "```python\n",
       "return (ketchup + mustard + onion) == 1\n",
       "```"
      ]
     },
     "metadata": {},
     "output_type": "display_data"
    }
   ],
   "source": [
    "#q6.hint()\n",
    "q6.solution()"
   ]
  },
  {
   "cell_type": "markdown",
   "id": "7668508d",
   "metadata": {
    "papermill": {
     "duration": 0.017812,
     "end_time": "2024-05-30T14:13:53.650526",
     "exception": false,
     "start_time": "2024-05-30T14:13:53.632714",
     "status": "completed"
    },
    "tags": []
   },
   "source": [
    "# 7. <span title=\"A bit spicy\" style=\"color: darkgreen \">🌶️</span> (Optional)\n",
    "\n",
    "In this problem we'll be working with a simplified version of [blackjack](https://en.wikipedia.org/wiki/Blackjack) (aka twenty-one). In this version there is one player (who you'll control) and a dealer. Play proceeds as follows:\n",
    "\n",
    "- The player is dealt two face-up cards. The dealer is dealt one face-up card.\n",
    "- The player may ask to be dealt another card ('hit') as many times as they wish. If the sum of their cards exceeds 21, they lose the round immediately.\n",
    "- The dealer then deals additional cards to himself until either:\n",
    "    - the sum of the dealer's cards exceeds 21, in which case the player wins the round\n",
    "    - the sum of the dealer's cards is greater than or equal to 17. If the player's total is greater than the dealer's, the player wins. Otherwise, the dealer wins (even in case of a tie).\n",
    "    \n",
    "When calculating the sum of cards, Jack, Queen, and King count for 10. Aces can count as 1 or 11 (when referring to a player's \"total\" above, we mean the largest total that can be made without exceeding 21. So e.g. A+8 = 19, A+8+8 = 17)\n",
    "\n",
    "For this problem, you'll write a function representing the player's decision-making strategy in this game. We've provided a very unintelligent implementation below:"
   ]
  },
  {
   "cell_type": "code",
   "execution_count": 20,
   "id": "cb8b17d5",
   "metadata": {
    "execution": {
     "iopub.execute_input": "2024-05-30T14:13:53.687914Z",
     "iopub.status.busy": "2024-05-30T14:13:53.687389Z",
     "iopub.status.idle": "2024-05-30T14:13:53.695269Z",
     "shell.execute_reply": "2024-05-30T14:13:53.693947Z"
    },
    "papermill": {
     "duration": 0.030185,
     "end_time": "2024-05-30T14:13:53.698342",
     "exception": false,
     "start_time": "2024-05-30T14:13:53.668157",
     "status": "completed"
    },
    "tags": []
   },
   "outputs": [],
   "source": [
    "def should_hit(dealer_total, player_total, player_low_aces, player_high_aces):\n",
    "    \"\"\"\n",
    "    Return True if the player should hit (request another card) given the current game\n",
    "    state, or False if the player should stay.\n",
    "    \n",
    "    When calculating a hand's total value, we count aces as \"high\" (with value 11) if doing so\n",
    "    doesn't bring the total above 21, otherwise we count them as low (with value 1). \n",
    "    \"\"\"\n",
    "    # If player's total is less than 17, hit to try to improve the hand\n",
    "    if player_total < 17:\n",
    "        return True\n",
    "    \n",
    "    # If player's total is 17 and has no low aces (all aces are high), stay\n",
    "    if player_total == 17 and player_low_aces == 0:\n",
    "        return False\n",
    "    \n",
    "    # Otherwise, hit to try to improve the hand\n",
    "    return True\n"
   ]
  },
  {
   "cell_type": "markdown",
   "id": "d433a182",
   "metadata": {
    "papermill": {
     "duration": 0.019014,
     "end_time": "2024-05-30T14:13:53.830238",
     "exception": false,
     "start_time": "2024-05-30T14:13:53.811224",
     "status": "completed"
    },
    "tags": []
   },
   "source": [
    "This very conservative agent *always* sticks with the hand of two cards that they're dealt.\n",
    "\n",
    "We'll be simulating games between your player agent and our own dealer agent by calling your function.\n",
    "\n",
    "Try running the function below to see an example of a simulated game:"
   ]
  },
  {
   "cell_type": "code",
   "execution_count": 21,
   "id": "dbb642ab",
   "metadata": {
    "execution": {
     "iopub.execute_input": "2024-05-30T14:13:53.872845Z",
     "iopub.status.busy": "2024-05-30T14:13:53.872167Z",
     "iopub.status.idle": "2024-05-30T14:13:53.879818Z",
     "shell.execute_reply": "2024-05-30T14:13:53.878562Z"
    },
    "papermill": {
     "duration": 0.032675,
     "end_time": "2024-05-30T14:13:53.882750",
     "exception": false,
     "start_time": "2024-05-30T14:13:53.850075",
     "status": "completed"
    },
    "tags": []
   },
   "outputs": [
    {
     "name": "stdout",
     "output_type": "stream",
     "text": [
      "Player starts with 6 and 8 (total = 14)\n",
      "Dealer starts with 7\n",
      "\n",
      "__Player's turn__\n",
      "Player hits and receives J. (total = 24)\n",
      "Player busts! Dealer wins.\n"
     ]
    }
   ],
   "source": [
    "q7.simulate_one_game()"
   ]
  },
  {
   "cell_type": "markdown",
   "id": "ba50d9d1",
   "metadata": {
    "papermill": {
     "duration": 0.018334,
     "end_time": "2024-05-30T14:13:53.919716",
     "exception": false,
     "start_time": "2024-05-30T14:13:53.901382",
     "status": "completed"
    },
    "tags": []
   },
   "source": [
    "The real test of your agent's mettle is their average win rate over many games. Try calling the function below to simulate 50000 games of blackjack (it may take a couple seconds):"
   ]
  },
  {
   "cell_type": "code",
   "execution_count": 22,
   "id": "ec4577ef",
   "metadata": {
    "execution": {
     "iopub.execute_input": "2024-05-30T14:13:53.960519Z",
     "iopub.status.busy": "2024-05-30T14:13:53.959875Z",
     "iopub.status.idle": "2024-05-30T14:13:56.167157Z",
     "shell.execute_reply": "2024-05-30T14:13:56.165868Z"
    },
    "papermill": {
     "duration": 2.231032,
     "end_time": "2024-05-30T14:13:56.169801",
     "exception": false,
     "start_time": "2024-05-30T14:13:53.938769",
     "status": "completed"
    },
    "tags": []
   },
   "outputs": [
    {
     "name": "stdout",
     "output_type": "stream",
     "text": [
      "Player won 1807 out of 50000 games (win rate = 3.6%)\n"
     ]
    }
   ],
   "source": [
    "q7.simulate(n_games=50000)"
   ]
  },
  {
   "cell_type": "markdown",
   "id": "34931fb6",
   "metadata": {
    "papermill": {
     "duration": 0.021524,
     "end_time": "2024-05-30T14:13:56.213811",
     "exception": false,
     "start_time": "2024-05-30T14:13:56.192287",
     "status": "completed"
    },
    "tags": []
   },
   "source": [
    "Our dumb agent that completely ignores the game state still manages to win shockingly often!\n",
    "\n",
    "Try adding some more smarts to the `should_hit` function and see how it affects the results."
   ]
  },
  {
   "cell_type": "code",
   "execution_count": 23,
   "id": "a5696ee5",
   "metadata": {
    "execution": {
     "iopub.execute_input": "2024-05-30T14:13:56.252865Z",
     "iopub.status.busy": "2024-05-30T14:13:56.252470Z",
     "iopub.status.idle": "2024-05-30T14:13:56.631097Z",
     "shell.execute_reply": "2024-05-30T14:13:56.629650Z"
    },
    "papermill": {
     "duration": 0.402764,
     "end_time": "2024-05-30T14:13:56.634097",
     "exception": false,
     "start_time": "2024-05-30T14:13:56.231333",
     "status": "completed"
    },
    "tags": []
   },
   "outputs": [
    {
     "name": "stdout",
     "output_type": "stream",
     "text": [
      "Simulation Results:\n",
      "player_win: 0\n",
      "dealer_win: 22509\n",
      "player_bust: 0\n",
      "dealer_bust: 18815\n",
      "push: 8676\n"
     ]
    }
   ],
   "source": [
    "import random\n",
    "\n",
    "def should_hit(dealer_total, player_total, player_low_aces, player_high_aces):\n",
    "    \"\"\"\n",
    "    Return True if the player should hit (request another card) given the current game\n",
    "    state, or False if the player should stay.\n",
    "    \n",
    "    When calculating a hand's total value, we count aces as \"high\" (with value 11) if doing so\n",
    "    doesn't bring the total above 21, otherwise we count them as low (with value 1). \n",
    "    \"\"\"\n",
    "    # If player's total is less than 17, hit to try to improve the hand\n",
    "    if player_total < 17:\n",
    "        return True\n",
    "    \n",
    "    # If player's total is 17 and has at least one low ace, hit to try to improve the hand\n",
    "    if player_total == 17 and player_low_aces > 0:\n",
    "        return True\n",
    "    \n",
    "    # Otherwise, stay\n",
    "    return False\n",
    "\n",
    "def simulate_game():\n",
    "    # Initialize player and dealer hands\n",
    "    player_hand = [7, 10]  # Starting hand (7 and 10)\n",
    "    dealer_hand = [5]      # Starting hand (5)\n",
    "    \n",
    "    # Player's turn\n",
    "    while should_hit(dealer_hand[0], sum(player_hand), player_hand.count(1), player_hand.count(11)):\n",
    "        # Player hits\n",
    "        player_hand.append(random.randint(1, 13))  # Random card from 1 to 13\n",
    "        if sum(player_hand) > 21:\n",
    "            return 'player_bust'  # Player busts\n",
    "    \n",
    "    # Dealer's turn\n",
    "    while sum(dealer_hand) < 17:\n",
    "        dealer_hand.append(random.randint(1, 13))  # Dealer hits\n",
    "        if sum(dealer_hand) > 21:\n",
    "            return 'dealer_bust'  # Dealer busts\n",
    "    \n",
    "    # Compare hands\n",
    "    if sum(player_hand) > sum(dealer_hand):\n",
    "        return 'player_win'\n",
    "    elif sum(player_hand) < sum(dealer_hand):\n",
    "        return 'dealer_win'\n",
    "    else:\n",
    "        return 'push'\n",
    "\n",
    "def simulate(n_games=10000):\n",
    "    results = {'player_win': 0, 'dealer_win': 0, 'player_bust': 0, 'dealer_bust': 0, 'push': 0}\n",
    "    for _ in range(n_games):\n",
    "        outcome = simulate_game()\n",
    "        results[outcome] += 1\n",
    "    return results\n",
    "\n",
    "if __name__ == \"__main__\":\n",
    "    simulation_results = simulate(n_games=50000)\n",
    "    print(\"Simulation Results:\")\n",
    "    for outcome, count in simulation_results.items():\n",
    "        print(f\"{outcome}: {count}\")\n"
   ]
  },
  {
   "cell_type": "markdown",
   "id": "66a9b41d",
   "metadata": {
    "papermill": {
     "duration": 0.017842,
     "end_time": "2024-05-30T14:13:56.669953",
     "exception": false,
     "start_time": "2024-05-30T14:13:56.652111",
     "status": "completed"
    },
    "tags": []
   },
   "source": [
    "# Keep Going\n",
    "\n",
    "Learn about **[lists and tuples](https://www.kaggle.com/colinmorris/lists)** to handle multiple items of data in a systematic way."
   ]
  },
  {
   "cell_type": "markdown",
   "id": "49ba156c",
   "metadata": {
    "papermill": {
     "duration": 0.01768,
     "end_time": "2024-05-30T14:13:56.705275",
     "exception": false,
     "start_time": "2024-05-30T14:13:56.687595",
     "status": "completed"
    },
    "tags": []
   },
   "source": [
    "---\n",
    "\n",
    "\n",
    "\n",
    "\n",
    "*Have questions or comments? Visit the [course discussion forum](https://www.kaggle.com/learn/python/discussion) to chat with other learners.*"
   ]
  }
 ],
 "metadata": {
  "kaggle": {
   "accelerator": "none",
   "dataSources": [],
   "isGpuEnabled": false,
   "isInternetEnabled": false,
   "language": "python",
   "sourceType": "notebook"
  },
  "kernelspec": {
   "display_name": "Python 3",
   "language": "python",
   "name": "python3"
  },
  "language_info": {
   "codemirror_mode": {
    "name": "ipython",
    "version": 3
   },
   "file_extension": ".py",
   "mimetype": "text/x-python",
   "name": "python",
   "nbconvert_exporter": "python",
   "pygments_lexer": "ipython3",
   "version": "3.10.13"
  },
  "learntools_metadata": {
   "lesson_index": 2,
   "type": "exercise"
  },
  "papermill": {
   "default_parameters": {},
   "duration": 9.192322,
   "end_time": "2024-05-30T14:13:57.244132",
   "environment_variables": {},
   "exception": null,
   "input_path": "__notebook__.ipynb",
   "output_path": "__notebook__.ipynb",
   "parameters": {},
   "start_time": "2024-05-30T14:13:48.051810",
   "version": "2.5.0"
  }
 },
 "nbformat": 4,
 "nbformat_minor": 5
}
