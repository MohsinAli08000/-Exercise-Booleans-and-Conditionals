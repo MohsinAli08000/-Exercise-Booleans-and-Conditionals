{
 "cells": [
  {
   "cell_type": "markdown",
   "id": "79664391",
   "metadata": {
    "papermill": {
     "duration": 0.015295,
     "end_time": "2024-05-30T15:20:13.711531",
     "exception": false,
     "start_time": "2024-05-30T15:20:13.696236",
     "status": "completed"
    },
    "tags": []
   },
   "source": [
    "**This notebook is an exercise in the [Python](https://www.kaggle.com/learn/python) course.  You can reference the tutorial at [this link](https://www.kaggle.com/colinmorris/booleans-and-conditionals).**\n",
    "\n",
    "---\n"
   ]
  },
  {
   "cell_type": "markdown",
   "id": "9806ff2f",
   "metadata": {
    "papermill": {
     "duration": 0.013272,
     "end_time": "2024-05-30T15:20:13.738198",
     "exception": false,
     "start_time": "2024-05-30T15:20:13.724926",
     "status": "completed"
    },
    "tags": []
   },
   "source": [
    "In this exercise, you'll put to work what you have learned about booleans and conditionals.\n",
    "\n",
    "To get started, **run the setup code below** before writing your own code (and if you leave this notebook and come back later, don't forget to run the setup code again)."
   ]
  },
  {
   "cell_type": "code",
   "execution_count": 1,
   "id": "73375303",
   "metadata": {
    "execution": {
     "iopub.execute_input": "2024-05-30T15:20:13.768039Z",
     "iopub.status.busy": "2024-05-30T15:20:13.767128Z",
     "iopub.status.idle": "2024-05-30T15:20:15.020932Z",
     "shell.execute_reply": "2024-05-30T15:20:15.018055Z"
    },
    "papermill": {
     "duration": 1.27264,
     "end_time": "2024-05-30T15:20:15.024242",
     "exception": false,
     "start_time": "2024-05-30T15:20:13.751602",
     "status": "completed"
    },
    "tags": []
   },
   "outputs": [
    {
     "name": "stdout",
     "output_type": "stream",
     "text": [
      "Setup complete.\n"
     ]
    }
   ],
   "source": [
    "from learntools.core import binder; binder.bind(globals())\n",
    "from learntools.python.ex3 import *\n",
    "print('Setup complete.')"
   ]
  },
  {
   "cell_type": "markdown",
   "id": "ca54d299",
   "metadata": {
    "papermill": {
     "duration": 0.014245,
     "end_time": "2024-05-30T15:20:15.051766",
     "exception": false,
     "start_time": "2024-05-30T15:20:15.037521",
     "status": "completed"
    },
    "tags": []
   },
   "source": [
    "# 1.\n",
    "\n",
    "Many programming languages have [`sign`](https://en.wikipedia.org/wiki/Sign_function) available as a built-in function. Python doesn't, but we can define our own!\n",
    "\n",
    "In the cell below, define a function called `sign` which takes a numerical argument and returns -1 if it's negative, 1 if it's positive, and 0 if it's 0."
   ]
  },
  {
   "cell_type": "code",
   "execution_count": 2,
   "id": "6c9313dc",
   "metadata": {
    "execution": {
     "iopub.execute_input": "2024-05-30T15:20:15.082980Z",
     "iopub.status.busy": "2024-05-30T15:20:15.082292Z",
     "iopub.status.idle": "2024-05-30T15:20:15.089964Z",
     "shell.execute_reply": "2024-05-30T15:20:15.088241Z"
    },
    "papermill": {
     "duration": 0.027364,
     "end_time": "2024-05-30T15:20:15.092924",
     "exception": false,
     "start_time": "2024-05-30T15:20:15.065560",
     "status": "completed"
    },
    "tags": []
   },
   "outputs": [],
   "source": [
    "def sign(x):\n",
    "    if x > 0:\n",
    "        return 1\n",
    "    elif x < 0:\n",
    "        return -1\n",
    "    else:\n",
    "        return 0"
   ]
  },
  {
   "cell_type": "code",
   "execution_count": 3,
   "id": "241dbb54",
   "metadata": {
    "execution": {
     "iopub.execute_input": "2024-05-30T15:20:15.125496Z",
     "iopub.status.busy": "2024-05-30T15:20:15.125018Z",
     "iopub.status.idle": "2024-05-30T15:20:15.129984Z",
     "shell.execute_reply": "2024-05-30T15:20:15.128658Z"
    },
    "papermill": {
     "duration": 0.024551,
     "end_time": "2024-05-30T15:20:15.132837",
     "exception": false,
     "start_time": "2024-05-30T15:20:15.108286",
     "status": "completed"
    },
    "tags": []
   },
   "outputs": [],
   "source": [
    "#q1.solution()"
   ]
  },
  {
   "cell_type": "markdown",
   "id": "ce467c7c",
   "metadata": {
    "papermill": {
     "duration": 0.018154,
     "end_time": "2024-05-30T15:20:15.170795",
     "exception": false,
     "start_time": "2024-05-30T15:20:15.152641",
     "status": "completed"
    },
    "tags": []
   },
   "source": [
    "# 2.\n",
    "\n",
    "We've decided to add \"logging\" to our `to_smash` function from the previous exercise."
   ]
  },
  {
   "cell_type": "code",
   "execution_count": 4,
   "id": "11d3fb7d",
   "metadata": {
    "execution": {
     "iopub.execute_input": "2024-05-30T15:20:15.203156Z",
     "iopub.status.busy": "2024-05-30T15:20:15.202678Z",
     "iopub.status.idle": "2024-05-30T15:20:15.214656Z",
     "shell.execute_reply": "2024-05-30T15:20:15.213062Z"
    },
    "papermill": {
     "duration": 0.031163,
     "end_time": "2024-05-30T15:20:15.217707",
     "exception": false,
     "start_time": "2024-05-30T15:20:15.186544",
     "status": "completed"
    },
    "tags": []
   },
   "outputs": [
    {
     "name": "stdout",
     "output_type": "stream",
     "text": [
      "Splitting 91 candies\n"
     ]
    },
    {
     "data": {
      "text/plain": [
       "1"
      ]
     },
     "execution_count": 4,
     "metadata": {},
     "output_type": "execute_result"
    }
   ],
   "source": [
    "def to_smash(total_candies):\n",
    "    \"\"\"Return the number of leftover candies that must be smashed after distributing\n",
    "    the given number of candies evenly between 3 friends.\n",
    "    \n",
    "    >>> to_smash(91)\n",
    "    1\n",
    "    \"\"\"\n",
    "    print(\"Splitting\", total_candies, \"candies\")  # Logging message\n",
    "    return total_candies % 3\n",
    "\n",
    "to_smash(91)\n"
   ]
  },
  {
   "cell_type": "markdown",
   "id": "9ab1c30c",
   "metadata": {
    "papermill": {
     "duration": 0.013013,
     "end_time": "2024-05-30T15:20:15.243971",
     "exception": false,
     "start_time": "2024-05-30T15:20:15.230958",
     "status": "completed"
    },
    "tags": []
   },
   "source": [
    "What happens if we call it with `total_candies = 1`?"
   ]
  },
  {
   "cell_type": "code",
   "execution_count": 5,
   "id": "ae98d26a",
   "metadata": {
    "execution": {
     "iopub.execute_input": "2024-05-30T15:20:15.273278Z",
     "iopub.status.busy": "2024-05-30T15:20:15.272617Z",
     "iopub.status.idle": "2024-05-30T15:20:15.280467Z",
     "shell.execute_reply": "2024-05-30T15:20:15.279190Z"
    },
    "papermill": {
     "duration": 0.025242,
     "end_time": "2024-05-30T15:20:15.282979",
     "exception": false,
     "start_time": "2024-05-30T15:20:15.257737",
     "status": "completed"
    },
    "tags": []
   },
   "outputs": [
    {
     "name": "stdout",
     "output_type": "stream",
     "text": [
      "Splitting 1 candies\n"
     ]
    },
    {
     "data": {
      "text/plain": [
       "1"
      ]
     },
     "execution_count": 5,
     "metadata": {},
     "output_type": "execute_result"
    }
   ],
   "source": [
    "to_smash(1)"
   ]
  },
  {
   "cell_type": "markdown",
   "id": "92cab55d",
   "metadata": {
    "papermill": {
     "duration": 0.01318,
     "end_time": "2024-05-30T15:20:15.309456",
     "exception": false,
     "start_time": "2024-05-30T15:20:15.296276",
     "status": "completed"
    },
    "tags": []
   },
   "source": [
    "That isn't great grammar!\n",
    "\n",
    "Modify the definition in the cell below to correct the grammar of our print statement. (If there's only one candy, we should use the singular \"candy\" instead of the plural \"candies\")"
   ]
  },
  {
   "cell_type": "code",
   "execution_count": 6,
   "id": "2fe1184d",
   "metadata": {
    "execution": {
     "iopub.execute_input": "2024-05-30T15:20:15.338690Z",
     "iopub.status.busy": "2024-05-30T15:20:15.338323Z",
     "iopub.status.idle": "2024-05-30T15:20:15.347932Z",
     "shell.execute_reply": "2024-05-30T15:20:15.346244Z"
    },
    "papermill": {
     "duration": 0.027281,
     "end_time": "2024-05-30T15:20:15.350665",
     "exception": false,
     "start_time": "2024-05-30T15:20:15.323384",
     "status": "completed"
    },
    "tags": []
   },
   "outputs": [
    {
     "name": "stdout",
     "output_type": "stream",
     "text": [
      "Splitting 91 candies\n",
      "Splitting 1 candy\n"
     ]
    },
    {
     "data": {
      "text/plain": [
       "1"
      ]
     },
     "execution_count": 6,
     "metadata": {},
     "output_type": "execute_result"
    }
   ],
   "source": [
    "def to_smash(total_candies):\n",
    "    \"\"\"Return the number of leftover candies that must be smashed after distributing\n",
    "    the given number of candies evenly between 3 friends.\n",
    "    \n",
    "    >>> to_smash(91)\n",
    "    1\n",
    "    \"\"\"\n",
    "    if total_candies == 1:\n",
    "        print(\"Splitting\", total_candies, \"candy\")  # Singular form\n",
    "    else:\n",
    "        print(\"Splitting\", total_candies, \"candies\")  # Plural form\n",
    "    return total_candies % 3\n",
    "\n",
    "to_smash(91)\n",
    "to_smash(1)\n"
   ]
  },
  {
   "cell_type": "markdown",
   "id": "da5f1e79",
   "metadata": {
    "papermill": {
     "duration": 0.013178,
     "end_time": "2024-05-30T15:20:15.377208",
     "exception": false,
     "start_time": "2024-05-30T15:20:15.364030",
     "status": "completed"
    },
    "tags": []
   },
   "source": [
    "To get credit for completing this problem, and to see the official answer, run the code cell below."
   ]
  },
  {
   "cell_type": "code",
   "execution_count": 7,
   "id": "9b29d94f",
   "metadata": {
    "execution": {
     "iopub.execute_input": "2024-05-30T15:20:15.407414Z",
     "iopub.status.busy": "2024-05-30T15:20:15.406001Z",
     "iopub.status.idle": "2024-05-30T15:20:15.416383Z",
     "shell.execute_reply": "2024-05-30T15:20:15.415165Z"
    },
    "papermill": {
     "duration": 0.028063,
     "end_time": "2024-05-30T15:20:15.418894",
     "exception": false,
     "start_time": "2024-05-30T15:20:15.390831",
     "status": "completed"
    },
    "tags": []
   },
   "outputs": [
    {
     "data": {
      "application/javascript": [
       "parent.postMessage({\"jupyterEvent\": \"custom.exercise_interaction\", \"data\": {\"interactionType\": 3, \"questionType\": 4, \"questionId\": \"2_PluralizationProblem\", \"learnToolsVersion\": \"0.3.4\", \"valueTowardsCompletion\": 0.0, \"failureMessage\": \"\", \"exceptionClass\": \"\", \"trace\": \"\", \"outcomeType\": 4}}, \"*\")"
      ],
      "text/plain": [
       "<IPython.core.display.Javascript object>"
      ]
     },
     "metadata": {},
     "output_type": "display_data"
    },
    {
     "data": {
      "text/markdown": [
       "<span style=\"color:#33cc99\">Solution:</span> A straightforward (and totally fine) solution is to replace the original `print` call with:\n",
       "\n",
       "```python\n",
       "if total_candies == 1:\n",
       "    print(\"Splitting 1 candy\")\n",
       "else:\n",
       "    print(\"Splitting\", total_candies, \"candies\")\n",
       "```\n",
       "\n",
       "Here's a slightly more succinct solution using a conditional expression:\n",
       "\n",
       "```python\n",
       "print(\"Splitting\", total_candies, \"candy\" if total_candies == 1 else \"candies\")\n",
       "```"
      ],
      "text/plain": [
       "Solution: A straightforward (and totally fine) solution is to replace the original `print` call with:\n",
       "\n",
       "```python\n",
       "if total_candies == 1:\n",
       "    print(\"Splitting 1 candy\")\n",
       "else:\n",
       "    print(\"Splitting\", total_candies, \"candies\")\n",
       "```\n",
       "\n",
       "Here's a slightly more succinct solution using a conditional expression:\n",
       "\n",
       "```python\n",
       "print(\"Splitting\", total_candies, \"candy\" if total_candies == 1 else \"candies\")\n",
       "```"
      ]
     },
     "metadata": {},
     "output_type": "display_data"
    }
   ],
   "source": [
    "# Check your answer (Run this code cell to receive credit!)\n",
    "q2.solution()"
   ]
  },
  {
   "cell_type": "markdown",
   "id": "62be291e",
   "metadata": {
    "papermill": {
     "duration": 0.014286,
     "end_time": "2024-05-30T15:20:15.447708",
     "exception": false,
     "start_time": "2024-05-30T15:20:15.433422",
     "status": "completed"
    },
    "tags": []
   },
   "source": [
    "# 3. <span title=\"A bit spicy\" style=\"color: darkgreen \">🌶️</span>\n",
    "\n",
    "In the tutorial, we talked about deciding whether we're prepared for the weather. I said that I'm safe from today's weather if...\n",
    "- I have an umbrella...\n",
    "- or if the rain isn't too heavy and I have a hood...\n",
    "- otherwise, I'm still fine unless it's raining *and* it's a workday\n",
    "\n",
    "The function below uses our first attempt at turning this logic into a Python expression. I claimed that there was a bug in that code. Can you find it?\n",
    "\n",
    "To prove that `prepared_for_weather` is buggy, come up with a set of inputs where either:\n",
    "- the function returns `False` (but should have returned `True`), or\n",
    "- the function returned `True` (but should have returned `False`).\n",
    "\n",
    "To get credit for completing this question, your code should return a <font color='#33cc33'>Correct</font> result."
   ]
  },
  {
   "cell_type": "code",
   "execution_count": 8,
   "id": "d10cb7bc",
   "metadata": {
    "execution": {
     "iopub.execute_input": "2024-05-30T15:20:15.478098Z",
     "iopub.status.busy": "2024-05-30T15:20:15.477190Z",
     "iopub.status.idle": "2024-05-30T15:20:15.487033Z",
     "shell.execute_reply": "2024-05-30T15:20:15.485469Z"
    },
    "papermill": {
     "duration": 0.028072,
     "end_time": "2024-05-30T15:20:15.489812",
     "exception": false,
     "start_time": "2024-05-30T15:20:15.461740",
     "status": "completed"
    },
    "tags": []
   },
   "outputs": [
    {
     "name": "stdout",
     "output_type": "stream",
     "text": [
      "Case 1 Result: False\n",
      "Case 2 Result: False\n"
     ]
    }
   ],
   "source": [
    "def prepared_for_weather(have_umbrella, rain_level, have_hood, is_workday):\n",
    "    \"\"\"\n",
    "    Return whether the person is prepared for the weather based on the given conditions.\"\"\"\n",
    "    # Check if it's raining\n",
    "    is_raining = rain_level > 0\n",
    "    \n",
    "    # If it's raining, the person should have an umbrella or a hood\n",
    "    if is_raining:\n",
    "        return have_umbrella or have_hood\n",
    "    \n",
    "    # If it's not raining and it's a workday, the person should have an umbrella\n",
    "    if is_workday:\n",
    "        return have_umbrella\n",
    "    \n",
    "    # Otherwise, the person is prepared\n",
    "    return True\n",
    "\n",
    "# Case 1: The function returns False (but should have returned True)\n",
    "result_case1 = prepared_for_weather(False, 0.5, False, True)\n",
    "print(\"Case 1 Result:\", result_case1)  # Expected: True\n",
    "\n",
    "# Case 2: The function returns True (but should have returned False)\n",
    "result_case2 = prepared_for_weather(False, 0, False, True)\n",
    "print(\"Case 2 Result:\", result_case2)  # Expected: False\n"
   ]
  },
  {
   "cell_type": "code",
   "execution_count": 9,
   "id": "4e7b58e2",
   "metadata": {
    "execution": {
     "iopub.execute_input": "2024-05-30T15:20:15.520863Z",
     "iopub.status.busy": "2024-05-30T15:20:15.520361Z",
     "iopub.status.idle": "2024-05-30T15:20:15.537626Z",
     "shell.execute_reply": "2024-05-30T15:20:15.535930Z"
    },
    "papermill": {
     "duration": 0.03639,
     "end_time": "2024-05-30T15:20:15.540361",
     "exception": false,
     "start_time": "2024-05-30T15:20:15.503971",
     "status": "completed"
    },
    "tags": []
   },
   "outputs": [
    {
     "data": {
      "application/javascript": [
       "parent.postMessage({\"jupyterEvent\": \"custom.exercise_interaction\", \"data\": {\"interactionType\": 2, \"questionType\": 1, \"questionId\": \"3_WeatherDebug\", \"learnToolsVersion\": \"0.3.4\", \"valueTowardsCompletion\": 0.0, \"failureMessage\": \"\", \"exceptionClass\": \"\", \"trace\": \"\", \"outcomeType\": 4}}, \"*\")"
      ],
      "text/plain": [
       "<IPython.core.display.Javascript object>"
      ]
     },
     "metadata": {},
     "output_type": "display_data"
    },
    {
     "data": {
      "text/markdown": [
       "<span style=\"color:#3366cc\">Hint:</span> Take a look at how we fixed our original expression in the main lesson. We added parentheses around certain subexpressions. The bug in this code is caused by Python evaluating certain operations in the \"wrong\" order."
      ],
      "text/plain": [
       "Hint: Take a look at how we fixed our original expression in the main lesson. We added parentheses around certain subexpressions. The bug in this code is caused by Python evaluating certain operations in the \"wrong\" order."
      ]
     },
     "metadata": {},
     "output_type": "display_data"
    },
    {
     "data": {
      "application/javascript": [
       "parent.postMessage({\"jupyterEvent\": \"custom.exercise_interaction\", \"data\": {\"interactionType\": 3, \"questionType\": 1, \"questionId\": \"3_WeatherDebug\", \"learnToolsVersion\": \"0.3.4\", \"valueTowardsCompletion\": 0.0, \"failureMessage\": \"\", \"exceptionClass\": \"\", \"trace\": \"\", \"outcomeType\": 4}}, \"*\")"
      ],
      "text/plain": [
       "<IPython.core.display.Javascript object>"
      ]
     },
     "metadata": {},
     "output_type": "display_data"
    },
    {
     "data": {
      "text/markdown": [
       "<span style=\"color:#33cc99\">Solution:</span> One example of a failing test case is:\n",
       "\n",
       "```python\n",
       "have_umbrella = False\n",
       "rain_level = 0.0\n",
       "have_hood = False\n",
       "is_workday = False\n",
       "```\n",
       "\n",
       "Clearly we're prepared for the weather in this case. It's not raining. Not only that, it's not a workday, so we don't even need to leave the house! But our function will return False on these inputs.\n",
       "\n",
       "The key problem is that Python implictly parenthesizes the last part as:\n",
       "\n",
       "```python\n",
       "(not (rain_level > 0)) and is_workday\n",
       "```\n",
       "\n",
       "Whereas what we were trying to express would look more like:\n",
       "\n",
       "```python\n",
       "not (rain_level > 0 and is_workday)\n",
       "```\n"
      ],
      "text/plain": [
       "Solution: One example of a failing test case is:\n",
       "\n",
       "```python\n",
       "have_umbrella = False\n",
       "rain_level = 0.0\n",
       "have_hood = False\n",
       "is_workday = False\n",
       "```\n",
       "\n",
       "Clearly we're prepared for the weather in this case. It's not raining. Not only that, it's not a workday, so we don't even need to leave the house! But our function will return False on these inputs.\n",
       "\n",
       "The key problem is that Python implictly parenthesizes the last part as:\n",
       "\n",
       "```python\n",
       "(not (rain_level > 0)) and is_workday\n",
       "```\n",
       "\n",
       "Whereas what we were trying to express would look more like:\n",
       "\n",
       "```python\n",
       "not (rain_level > 0 and is_workday)\n",
       "```"
      ]
     },
     "metadata": {},
     "output_type": "display_data"
    }
   ],
   "source": [
    "q3.hint()\n",
    "q3.solution()"
   ]
  },
  {
   "cell_type": "markdown",
   "id": "3b1ce4c9",
   "metadata": {
    "papermill": {
     "duration": 0.016208,
     "end_time": "2024-05-30T15:20:15.572126",
     "exception": false,
     "start_time": "2024-05-30T15:20:15.555918",
     "status": "completed"
    },
    "tags": []
   },
   "source": [
    "# 4.\n",
    "\n",
    "The function `is_negative` below is implemented correctly - it returns True if the given number is negative and False otherwise.\n",
    "\n",
    "However, it's more verbose than it needs to be. We can actually reduce the number of lines of code in this function by *75%* while keeping the same behaviour. \n",
    "\n",
    "See if you can come up with an equivalent body that uses just **one line** of code, and put it in the function `concise_is_negative`. (HINT: you don't even need Python's ternary syntax)"
   ]
  },
  {
   "cell_type": "code",
   "execution_count": 10,
   "id": "11425c8d",
   "metadata": {
    "execution": {
     "iopub.execute_input": "2024-05-30T15:20:15.606536Z",
     "iopub.status.busy": "2024-05-30T15:20:15.605055Z",
     "iopub.status.idle": "2024-05-30T15:20:15.617477Z",
     "shell.execute_reply": "2024-05-30T15:20:15.615867Z"
    },
    "papermill": {
     "duration": 0.032202,
     "end_time": "2024-05-30T15:20:15.619907",
     "exception": false,
     "start_time": "2024-05-30T15:20:15.587705",
     "status": "completed"
    },
    "tags": []
   },
   "outputs": [
    {
     "data": {
      "application/javascript": [
       "parent.postMessage({\"jupyterEvent\": \"custom.exercise_interaction\", \"data\": {\"outcomeType\": 1, \"valueTowardsCompletion\": 0.2, \"interactionType\": 1, \"questionType\": 2, \"questionId\": \"4_ConciseIsNegative\", \"learnToolsVersion\": \"0.3.4\", \"failureMessage\": \"\", \"exceptionClass\": \"\", \"trace\": \"\"}}, \"*\")"
      ],
      "text/plain": [
       "<IPython.core.display.Javascript object>"
      ]
     },
     "metadata": {},
     "output_type": "display_data"
    },
    {
     "data": {
      "text/markdown": [
       "<span style=\"color:#33cc33\">Correct</span>"
      ],
      "text/plain": [
       "Correct"
      ]
     },
     "metadata": {},
     "output_type": "display_data"
    }
   ],
   "source": [
    "\n",
    "\n",
    "def concise_is_negative(number):\n",
    "    \n",
    "    return number < 0\n",
    "# Check your answer\n",
    "q4.check()"
   ]
  },
  {
   "cell_type": "code",
   "execution_count": 11,
   "id": "9485e584",
   "metadata": {
    "execution": {
     "iopub.execute_input": "2024-05-30T15:20:15.654797Z",
     "iopub.status.busy": "2024-05-30T15:20:15.654325Z",
     "iopub.status.idle": "2024-05-30T15:20:15.664727Z",
     "shell.execute_reply": "2024-05-30T15:20:15.663098Z"
    },
    "papermill": {
     "duration": 0.032531,
     "end_time": "2024-05-30T15:20:15.667867",
     "exception": false,
     "start_time": "2024-05-30T15:20:15.635336",
     "status": "completed"
    },
    "tags": []
   },
   "outputs": [
    {
     "data": {
      "application/javascript": [
       "parent.postMessage({\"jupyterEvent\": \"custom.exercise_interaction\", \"data\": {\"interactionType\": 3, \"questionType\": 2, \"questionId\": \"4_ConciseIsNegative\", \"learnToolsVersion\": \"0.3.4\", \"valueTowardsCompletion\": 0.0, \"failureMessage\": \"\", \"exceptionClass\": \"\", \"trace\": \"\", \"outcomeType\": 4}}, \"*\")"
      ],
      "text/plain": [
       "<IPython.core.display.Javascript object>"
      ]
     },
     "metadata": {},
     "output_type": "display_data"
    },
    {
     "data": {
      "text/markdown": [
       "<span style=\"color:#33cc99\">Solution:</span> \n",
       "```python\n",
       "return number < 0\n",
       "```"
      ],
      "text/plain": [
       "Solution: \n",
       "```python\n",
       "return number < 0\n",
       "```"
      ]
     },
     "metadata": {},
     "output_type": "display_data"
    }
   ],
   "source": [
    "#q4.hint()\n",
    "q4.solution()"
   ]
  },
  {
   "cell_type": "markdown",
   "id": "56833d8a",
   "metadata": {
    "papermill": {
     "duration": 0.017331,
     "end_time": "2024-05-30T15:20:15.702928",
     "exception": false,
     "start_time": "2024-05-30T15:20:15.685597",
     "status": "completed"
    },
    "tags": []
   },
   "source": [
    "# 5a.\n",
    "\n",
    "The boolean variables `ketchup`, `mustard` and `onion` represent whether a customer wants a particular topping on their hot dog. We want to implement a number of boolean functions that correspond to some yes-or-no questions about the customer's order. For example:"
   ]
  },
  {
   "cell_type": "code",
   "execution_count": 12,
   "id": "ab245ab9",
   "metadata": {
    "execution": {
     "iopub.execute_input": "2024-05-30T15:20:15.741012Z",
     "iopub.status.busy": "2024-05-30T15:20:15.740564Z",
     "iopub.status.idle": "2024-05-30T15:20:15.749274Z",
     "shell.execute_reply": "2024-05-30T15:20:15.747694Z"
    },
    "papermill": {
     "duration": 0.032023,
     "end_time": "2024-05-30T15:20:15.753045",
     "exception": false,
     "start_time": "2024-05-30T15:20:15.721022",
     "status": "completed"
    },
    "tags": []
   },
   "outputs": [
    {
     "name": "stdout",
     "output_type": "stream",
     "text": [
      "Customer's order does not include onions.\n"
     ]
    }
   ],
   "source": [
    "def onionless(ketchup, mustard, onion):\n",
    "    \"\"\"Return whether the customer doesn't want onions.\"\"\"\n",
    "    return not onion\n",
    "\n",
    "def main():\n",
    "    # Customer's order\n",
    "    ketchup = True\n",
    "    mustard = False\n",
    "    onion = False  # The customer doesn't want onions\n",
    "    \n",
    "    # Check if the customer's order includes onions\n",
    "    if onionless(ketchup, mustard, onion):\n",
    "        print(\"Customer's order does not include onions.\")\n",
    "    else:\n",
    "        print(\"Customer's order includes onions.\")\n",
    "\n",
    "if __name__ == \"__main__\":\n",
    "    main()\n"
   ]
  },
  {
   "cell_type": "code",
   "execution_count": 13,
   "id": "6194371a",
   "metadata": {
    "execution": {
     "iopub.execute_input": "2024-05-30T15:20:15.790803Z",
     "iopub.status.busy": "2024-05-30T15:20:15.790350Z",
     "iopub.status.idle": "2024-05-30T15:20:15.799122Z",
     "shell.execute_reply": "2024-05-30T15:20:15.797606Z"
    },
    "papermill": {
     "duration": 0.031557,
     "end_time": "2024-05-30T15:20:15.802511",
     "exception": false,
     "start_time": "2024-05-30T15:20:15.770954",
     "status": "completed"
    },
    "tags": []
   },
   "outputs": [
    {
     "name": "stdout",
     "output_type": "stream",
     "text": [
      "The customer wants 'the works' with all toppings.\n"
     ]
    }
   ],
   "source": [
    "def wants_all_toppings(ketchup, mustard, onion):\n",
    "    \"\"\"Return whether the customer wants \"the works\" (all 3 toppings).\"\"\"\n",
    "    return ketchup and mustard and onion\n",
    "\n",
    "def main():\n",
    "    # Customer's preferences\n",
    "    ketchup = True\n",
    "    mustard = True\n",
    "    onion = True\n",
    "    \n",
    "    # Check if the customer wants all toppings\n",
    "    if wants_all_toppings(ketchup, mustard, onion):\n",
    "        print(\"The customer wants 'the works' with all toppings.\")\n",
    "    else:\n",
    "        print(\"The customer does not want all toppings.\")\n",
    "\n",
    "if __name__ == \"__main__\":\n",
    "    main()\n"
   ]
  },
  {
   "cell_type": "code",
   "execution_count": 14,
   "id": "31d8bb45",
   "metadata": {
    "execution": {
     "iopub.execute_input": "2024-05-30T15:20:15.840381Z",
     "iopub.status.busy": "2024-05-30T15:20:15.839855Z",
     "iopub.status.idle": "2024-05-30T15:20:15.849266Z",
     "shell.execute_reply": "2024-05-30T15:20:15.848355Z"
    },
    "papermill": {
     "duration": 0.032107,
     "end_time": "2024-05-30T15:20:15.851562",
     "exception": false,
     "start_time": "2024-05-30T15:20:15.819455",
     "status": "completed"
    },
    "tags": []
   },
   "outputs": [
    {
     "data": {
      "application/javascript": [
       "parent.postMessage({\"jupyterEvent\": \"custom.exercise_interaction\", \"data\": {\"interactionType\": 3, \"questionType\": 2, \"questionId\": \"5.1_AllToppings\", \"learnToolsVersion\": \"0.3.4\", \"valueTowardsCompletion\": 0.0, \"failureMessage\": \"\", \"exceptionClass\": \"\", \"trace\": \"\", \"outcomeType\": 4}}, \"*\")"
      ],
      "text/plain": [
       "<IPython.core.display.Javascript object>"
      ]
     },
     "metadata": {},
     "output_type": "display_data"
    },
    {
     "data": {
      "text/markdown": [
       "<span style=\"color:#33cc99\">Solution:</span> \n",
       "```python\n",
       "return ketchup and mustard and onion\n",
       "```"
      ],
      "text/plain": [
       "Solution: \n",
       "```python\n",
       "return ketchup and mustard and onion\n",
       "```"
      ]
     },
     "metadata": {},
     "output_type": "display_data"
    }
   ],
   "source": [
    "#q5.a.hint()\n",
    "q5.a.solution()"
   ]
  },
  {
   "cell_type": "markdown",
   "id": "c0416ae5",
   "metadata": {
    "papermill": {
     "duration": 0.017175,
     "end_time": "2024-05-30T15:20:15.885403",
     "exception": false,
     "start_time": "2024-05-30T15:20:15.868228",
     "status": "completed"
    },
    "tags": []
   },
   "source": [
    "# 5b.\n",
    "\n",
    "For the next function, fill in the body to match the English description in the docstring. "
   ]
  },
  {
   "cell_type": "code",
   "execution_count": 15,
   "id": "72425d60",
   "metadata": {
    "execution": {
     "iopub.execute_input": "2024-05-30T15:20:15.922171Z",
     "iopub.status.busy": "2024-05-30T15:20:15.921670Z",
     "iopub.status.idle": "2024-05-30T15:20:15.930409Z",
     "shell.execute_reply": "2024-05-30T15:20:15.929205Z"
    },
    "papermill": {
     "duration": 0.03071,
     "end_time": "2024-05-30T15:20:15.933408",
     "exception": false,
     "start_time": "2024-05-30T15:20:15.902698",
     "status": "completed"
    },
    "tags": []
   },
   "outputs": [
    {
     "name": "stdout",
     "output_type": "stream",
     "text": [
      "The customer wants a plain hot dog with no toppings.\n"
     ]
    }
   ],
   "source": [
    "def wants_plain_hotdog(ketchup, mustard, onion):\n",
    "    \"\"\"Return whether the customer wants a plain hot dog with no toppings.\"\"\"\n",
    "    return not (ketchup or mustard or onion)\n",
    "\n",
    "def main():\n",
    "    # Customer's preferences\n",
    "    ketchup = False\n",
    "    mustard = False\n",
    "    onion = False\n",
    "    \n",
    "    # Check if the customer wants a plain hot dog\n",
    "    if wants_plain_hotdog(ketchup, mustard, onion):\n",
    "        print(\"The customer wants a plain hot dog with no toppings.\")\n",
    "    else:\n",
    "        print(\"The customer wants some toppings on the hot dog.\")\n",
    "\n",
    "if __name__ == \"__main__\":\n",
    "    main()\n"
   ]
  },
  {
   "cell_type": "code",
   "execution_count": 16,
   "id": "7070f5b5",
   "metadata": {
    "execution": {
     "iopub.execute_input": "2024-05-30T15:20:15.970364Z",
     "iopub.status.busy": "2024-05-30T15:20:15.969968Z",
     "iopub.status.idle": "2024-05-30T15:20:15.974984Z",
     "shell.execute_reply": "2024-05-30T15:20:15.973678Z"
    },
    "papermill": {
     "duration": 0.026678,
     "end_time": "2024-05-30T15:20:15.977701",
     "exception": false,
     "start_time": "2024-05-30T15:20:15.951023",
     "status": "completed"
    },
    "tags": []
   },
   "outputs": [],
   "source": [
    "#q5.b.hint()\n",
    "#q5.b.solution()"
   ]
  },
  {
   "cell_type": "markdown",
   "id": "c55005fd",
   "metadata": {
    "papermill": {
     "duration": 0.017032,
     "end_time": "2024-05-30T15:20:16.012319",
     "exception": false,
     "start_time": "2024-05-30T15:20:15.995287",
     "status": "completed"
    },
    "tags": []
   },
   "source": [
    "# 5c.\n",
    "\n",
    "You know what to do: for the next function, fill in the body to match the English description in the docstring."
   ]
  },
  {
   "cell_type": "code",
   "execution_count": 17,
   "id": "e85c596e",
   "metadata": {
    "execution": {
     "iopub.execute_input": "2024-05-30T15:20:16.122517Z",
     "iopub.status.busy": "2024-05-30T15:20:16.121506Z",
     "iopub.status.idle": "2024-05-30T15:20:16.128117Z",
     "shell.execute_reply": "2024-05-30T15:20:16.126709Z"
    },
    "papermill": {
     "duration": 0.100866,
     "end_time": "2024-05-30T15:20:16.130840",
     "exception": false,
     "start_time": "2024-05-30T15:20:16.029974",
     "status": "completed"
    },
    "tags": []
   },
   "outputs": [],
   "source": [
    "def exactly_one_sauce(ketchup, mustard):\n",
    "    \"\"\"Return whether the customer wants either ketchup or mustard, but not both.\"\"\"\n",
    "    return (ketchup and not mustard) or (mustard and not ketchup)\n"
   ]
  },
  {
   "cell_type": "code",
   "execution_count": 18,
   "id": "b8cbe387",
   "metadata": {
    "execution": {
     "iopub.execute_input": "2024-05-30T15:20:16.167018Z",
     "iopub.status.busy": "2024-05-30T15:20:16.166619Z",
     "iopub.status.idle": "2024-05-30T15:20:16.172244Z",
     "shell.execute_reply": "2024-05-30T15:20:16.170760Z"
    },
    "papermill": {
     "duration": 0.025948,
     "end_time": "2024-05-30T15:20:16.174760",
     "exception": false,
     "start_time": "2024-05-30T15:20:16.148812",
     "status": "completed"
    },
    "tags": []
   },
   "outputs": [],
   "source": [
    "#q5.c.hint()\n",
    "#q5.c.solution()"
   ]
  },
  {
   "cell_type": "markdown",
   "id": "186b173f",
   "metadata": {
    "papermill": {
     "duration": 0.016649,
     "end_time": "2024-05-30T15:20:16.207888",
     "exception": false,
     "start_time": "2024-05-30T15:20:16.191239",
     "status": "completed"
    },
    "tags": []
   },
   "source": [
    "# 6. <span title=\"A bit spicy\" style=\"color: darkgreen \">🌶️</span>\n",
    "\n",
    "We’ve seen that calling `bool()` on an integer returns `False` if it’s equal to 0 and `True` otherwise. What happens if we call `int()` on a bool? Try it out in the notebook cell below.\n",
    "\n",
    "Can you take advantage of this to write a succinct function that corresponds to the English sentence \"does the customer want exactly one topping?\"?"
   ]
  },
  {
   "cell_type": "code",
   "execution_count": 19,
   "id": "3f1c2412",
   "metadata": {
    "execution": {
     "iopub.execute_input": "2024-05-30T15:20:16.244492Z",
     "iopub.status.busy": "2024-05-30T15:20:16.244070Z",
     "iopub.status.idle": "2024-05-30T15:20:16.250464Z",
     "shell.execute_reply": "2024-05-30T15:20:16.248969Z"
    },
    "papermill": {
     "duration": 0.028739,
     "end_time": "2024-05-30T15:20:16.253539",
     "exception": false,
     "start_time": "2024-05-30T15:20:16.224800",
     "status": "completed"
    },
    "tags": []
   },
   "outputs": [],
   "source": [
    "def exactly_one_topping(ketchup, mustard, onion):\n",
    "    \"\"\"Return whether the customer wants exactly one of the three available toppings\n",
    "    on their hot dog.\"\"\"\n",
    "    return int(ketchup) + int(mustard) + int(onion) == 1\n"
   ]
  },
  {
   "cell_type": "code",
   "execution_count": 20,
   "id": "51d3315b",
   "metadata": {
    "execution": {
     "iopub.execute_input": "2024-05-30T15:20:16.291512Z",
     "iopub.status.busy": "2024-05-30T15:20:16.290354Z",
     "iopub.status.idle": "2024-05-30T15:20:16.295363Z",
     "shell.execute_reply": "2024-05-30T15:20:16.294381Z"
    },
    "papermill": {
     "duration": 0.027305,
     "end_time": "2024-05-30T15:20:16.297887",
     "exception": false,
     "start_time": "2024-05-30T15:20:16.270582",
     "status": "completed"
    },
    "tags": []
   },
   "outputs": [],
   "source": [
    "#q6.hint()\n",
    "#q6.solution()"
   ]
  },
  {
   "cell_type": "markdown",
   "id": "8172bd09",
   "metadata": {
    "papermill": {
     "duration": 0.017892,
     "end_time": "2024-05-30T15:20:16.335260",
     "exception": false,
     "start_time": "2024-05-30T15:20:16.317368",
     "status": "completed"
    },
    "tags": []
   },
   "source": [
    "# 7. <span title=\"A bit spicy\" style=\"color: darkgreen \">🌶️</span> (Optional)\n",
    "\n",
    "In this problem we'll be working with a simplified version of [blackjack](https://en.wikipedia.org/wiki/Blackjack) (aka twenty-one). In this version there is one player (who you'll control) and a dealer. Play proceeds as follows:\n",
    "\n",
    "- The player is dealt two face-up cards. The dealer is dealt one face-up card.\n",
    "- The player may ask to be dealt another card ('hit') as many times as they wish. If the sum of their cards exceeds 21, they lose the round immediately.\n",
    "- The dealer then deals additional cards to himself until either:\n",
    "    - the sum of the dealer's cards exceeds 21, in which case the player wins the round\n",
    "    - the sum of the dealer's cards is greater than or equal to 17. If the player's total is greater than the dealer's, the player wins. Otherwise, the dealer wins (even in case of a tie).\n",
    "    \n",
    "When calculating the sum of cards, Jack, Queen, and King count for 10. Aces can count as 1 or 11 (when referring to a player's \"total\" above, we mean the largest total that can be made without exceeding 21. So e.g. A+8 = 19, A+8+8 = 17)\n",
    "\n",
    "For this problem, you'll write a function representing the player's decision-making strategy in this game. We've provided a very unintelligent implementation below:"
   ]
  },
  {
   "cell_type": "code",
   "execution_count": 21,
   "id": "aa3c2edd",
   "metadata": {
    "execution": {
     "iopub.execute_input": "2024-05-30T15:20:16.374095Z",
     "iopub.status.busy": "2024-05-30T15:20:16.372821Z",
     "iopub.status.idle": "2024-05-30T15:20:16.387923Z",
     "shell.execute_reply": "2024-05-30T15:20:16.386475Z"
    },
    "papermill": {
     "duration": 0.03648,
     "end_time": "2024-05-30T15:20:16.390826",
     "exception": false,
     "start_time": "2024-05-30T15:20:16.354346",
     "status": "completed"
    },
    "tags": []
   },
   "outputs": [
    {
     "name": "stdout",
     "output_type": "stream",
     "text": [
      "Player starts with: 13\n",
      "Player hits and receives: 8 (total = 21 )\n",
      "Player stays\n",
      "Dealer hits and receives K. (total = 21 )\n",
      "Dealer stands.\n",
      "Dealer wins.\n"
     ]
    }
   ],
   "source": [
    "def should_hit(dealer_total, player_total, player_low_aces, player_high_aces):\n",
    "    \"\"\"\n",
    "    Return True if the player should hit (request another card) given the current game\n",
    "    state, or False if the player should stay.\n",
    "    \n",
    "    When calculating a hand's total value, we count aces as \"high\" (with value 11) if doing so\n",
    "    doesn't bring the total above 21, otherwise we count them as low (with value 1).\n",
    "    \"\"\"\n",
    "    # If the player's total is less than 17, always hit\n",
    "    if player_total < 17:\n",
    "        return True\n",
    "    \n",
    "    # If the player has a soft total (ace counted as 11), consider hitting based on different scenarios\n",
    "    if player_high_aces > 0:\n",
    "        # If player's total is less than or equal to 17, always hit\n",
    "        if player_total <= 17:\n",
    "            return True\n",
    "        # If player's total is 18 and dealer's showing card is 9, 10, or ace, hit\n",
    "        if player_total == 18 and dealer_total in [9, 10, 11]:\n",
    "            return True\n",
    "        # If player's total is 19 or 20, never hit\n",
    "        if player_total >= 19:\n",
    "            return False\n",
    "    \n",
    "    # If the player's total is 17 or more, and there are no aces or the aces are counted as 1\n",
    "    # Consider staying unless player's total is less than dealer's showing card\n",
    "    return player_total < dealer_total\n",
    "\n",
    "# Simulation\n",
    "dealer_total = 11  # Dealer's total is 11 (Ace)\n",
    "player_total = 13  # Player's total is 13 (3 and 10)\n",
    "player_low_aces = 0\n",
    "player_high_aces = 0\n",
    "\n",
    "print(\"Player starts with:\", player_total)\n",
    "\n",
    "# Player's turn\n",
    "while should_hit(dealer_total, player_total, player_low_aces, player_high_aces):\n",
    "    # Player hits and receives a card (for example, 8)\n",
    "    card_received = 8\n",
    "    player_total += card_received\n",
    "    print(\"Player hits and receives:\", card_received, \"(total =\", player_total, \")\")\n",
    "    if player_total > 21 and player_low_aces > 0:\n",
    "        player_total -= 10  # Convert high ace to low to avoid busting\n",
    "        player_low_aces -= 1\n",
    "        player_high_aces += 1\n",
    "        print(\"Converted a high ace to low (total =\", player_total, \")\")\n",
    "    elif player_total > 21 and player_high_aces > 0:\n",
    "        print(\"Player busts with high ace counted as 11\")\n",
    "        break\n",
    "\n",
    "print(\"Player stays\")\n",
    "\n",
    "# Dealer's turn\n",
    "dealer_total += 10  # Dealer hits and receives a King\n",
    "print(\"Dealer hits and receives K. (total =\", dealer_total, \")\")\n",
    "print(\"Dealer stands.\")\n",
    "if dealer_total > 21:\n",
    "    print(\"Dealer busts.\")\n",
    "elif dealer_total >= player_total:\n",
    "    print(\"Dealer wins.\")\n",
    "else:\n",
    "    print(\"Player wins.\")\n"
   ]
  },
  {
   "cell_type": "markdown",
   "id": "faa871a1",
   "metadata": {
    "papermill": {
     "duration": 0.017688,
     "end_time": "2024-05-30T15:20:16.426724",
     "exception": false,
     "start_time": "2024-05-30T15:20:16.409036",
     "status": "completed"
    },
    "tags": []
   },
   "source": [
    "This very conservative agent *always* sticks with the hand of two cards that they're dealt.\n",
    "\n",
    "We'll be simulating games between your player agent and our own dealer agent by calling your function.\n",
    "\n",
    "Try running the function below to see an example of a simulated game:"
   ]
  },
  {
   "cell_type": "code",
   "execution_count": 22,
   "id": "a3016704",
   "metadata": {
    "execution": {
     "iopub.execute_input": "2024-05-30T15:20:16.464253Z",
     "iopub.status.busy": "2024-05-30T15:20:16.463856Z",
     "iopub.status.idle": "2024-05-30T15:20:16.470667Z",
     "shell.execute_reply": "2024-05-30T15:20:16.469254Z"
    },
    "papermill": {
     "duration": 0.028961,
     "end_time": "2024-05-30T15:20:16.473750",
     "exception": false,
     "start_time": "2024-05-30T15:20:16.444789",
     "status": "completed"
    },
    "tags": []
   },
   "outputs": [
    {
     "name": "stdout",
     "output_type": "stream",
     "text": [
      "Player starts with Q and 4 (total = 14)\n",
      "Dealer starts with 9\n",
      "\n",
      "__Player's turn__\n",
      "Player hits and receives 4. (total = 18)\n",
      "Player stays\n",
      "\n",
      "__Dealer's turn__\n",
      "Dealer hits and receives 8. (total = 17)\n",
      "Dealer stands.\n",
      "Player wins. 18 > 17\n"
     ]
    }
   ],
   "source": [
    "q7.simulate_one_game()"
   ]
  },
  {
   "cell_type": "markdown",
   "id": "4453217c",
   "metadata": {
    "papermill": {
     "duration": 0.018025,
     "end_time": "2024-05-30T15:20:16.510126",
     "exception": false,
     "start_time": "2024-05-30T15:20:16.492101",
     "status": "completed"
    },
    "tags": []
   },
   "source": [
    "The real test of your agent's mettle is their average win rate over many games. Try calling the function below to simulate 50000 games of blackjack (it may take a couple seconds):"
   ]
  },
  {
   "cell_type": "code",
   "execution_count": 23,
   "id": "1ab854d6",
   "metadata": {
    "execution": {
     "iopub.execute_input": "2024-05-30T15:20:16.549188Z",
     "iopub.status.busy": "2024-05-30T15:20:16.548794Z",
     "iopub.status.idle": "2024-05-30T15:20:18.962098Z",
     "shell.execute_reply": "2024-05-30T15:20:18.960565Z"
    },
    "papermill": {
     "duration": 2.436252,
     "end_time": "2024-05-30T15:20:18.965254",
     "exception": false,
     "start_time": "2024-05-30T15:20:16.529002",
     "status": "completed"
    },
    "tags": []
   },
   "outputs": [
    {
     "name": "stdout",
     "output_type": "stream",
     "text": [
      "Player won 20542 out of 50000 games (win rate = 41.1%)\n"
     ]
    }
   ],
   "source": [
    "q7.simulate(n_games=50000)"
   ]
  },
  {
   "cell_type": "markdown",
   "id": "99d496d5",
   "metadata": {
    "papermill": {
     "duration": 0.01712,
     "end_time": "2024-05-30T15:20:19.000881",
     "exception": false,
     "start_time": "2024-05-30T15:20:18.983761",
     "status": "completed"
    },
    "tags": []
   },
   "source": [
    "Our dumb agent that completely ignores the game state still manages to win shockingly often!\n",
    "\n",
    "Try adding some more smarts to the `should_hit` function and see how it affects the results."
   ]
  },
  {
   "cell_type": "code",
   "execution_count": 24,
   "id": "78b24a8a",
   "metadata": {
    "execution": {
     "iopub.execute_input": "2024-05-30T15:20:19.039032Z",
     "iopub.status.busy": "2024-05-30T15:20:19.038572Z",
     "iopub.status.idle": "2024-05-30T15:20:19.056933Z",
     "shell.execute_reply": "2024-05-30T15:20:19.055113Z"
    },
    "papermill": {
     "duration": 0.040597,
     "end_time": "2024-05-30T15:20:19.059855",
     "exception": false,
     "start_time": "2024-05-30T15:20:19.019258",
     "status": "completed"
    },
    "tags": []
   },
   "outputs": [
    {
     "name": "stdout",
     "output_type": "stream",
     "text": [
      "Player starts with: 13\n",
      "Player hits and receives: 8 (total = 21 )\n",
      "Player stays\n",
      "Dealer hits and receives K. (total = 21 )\n",
      "Dealer stands.\n",
      "Dealer wins.\n"
     ]
    }
   ],
   "source": [
    "def should_hit(dealer_total, player_total, player_low_aces, player_high_aces):\n",
    "    \"\"\"\n",
    "    Return True if the player should hit (request another card) given the current game\n",
    "    state, or False if the player should stay.\n",
    "    \n",
    "    When calculating a hand's total value, we count aces as \"high\" (with value 11) if doing so\n",
    "    doesn't bring the total above 21, otherwise we count them as low (with value 1). \n",
    "    \"\"\"\n",
    "    # If the player's total is less than 12, always hit\n",
    "    if player_total < 12:\n",
    "        return True\n",
    "    \n",
    "    # If the player's total is between 12 and 16, consider hitting based on dealer's showing card\n",
    "    if 12 <= player_total <= 16:\n",
    "        # If dealer's showing card is 7 or higher, and player has no aces, hit\n",
    "        if dealer_total >= 7 and player_low_aces == 0:\n",
    "            return True\n",
    "        # If dealer's showing card is 10 or ace, and player has no aces, hit\n",
    "        if dealer_total in [10, 11] and player_low_aces == 0:\n",
    "            return True\n",
    "        # If player has a soft total (including aces), hit against any dealer card to potentially improve\n",
    "        if player_high_aces > 0:\n",
    "            return True\n",
    "        # Otherwise, stay\n",
    "        return False\n",
    "    \n",
    "    # If the player's total is 17 or more, and there are no aces or the aces are counted as 1\n",
    "    # Consider staying unless player's total is less than dealer's showing card\n",
    "    return player_total < dealer_total\n",
    "\n",
    "# Simulation\n",
    "dealer_total = 11  # Dealer's total is 11 (Ace)\n",
    "player_total = 13  # Player's total is 13 (3 and 10)\n",
    "player_low_aces = 0\n",
    "player_high_aces = 0\n",
    "\n",
    "print(\"Player starts with:\", player_total)\n",
    "\n",
    "# Player's turn\n",
    "while should_hit(dealer_total, player_total, player_low_aces, player_high_aces):\n",
    "    # Player hits and receives a card (for example, 8)\n",
    "    card_received = 8\n",
    "    player_total += card_received\n",
    "    print(\"Player hits and receives:\", card_received, \"(total =\", player_total, \")\")\n",
    "    if player_total > 21 and player_low_aces > 0:\n",
    "        player_total -= 10  # Convert high ace to low to avoid busting\n",
    "        player_low_aces -= 1\n",
    "        player_high_aces += 1\n",
    "        print(\"Converted a high ace to low (total =\", player_total, \")\")\n",
    "    elif player_total > 21 and player_high_aces > 0:\n",
    "        print(\"Player busts with high ace counted as 11\")\n",
    "        break\n",
    "\n",
    "print(\"Player stays\")\n",
    "\n",
    "# Dealer's turn\n",
    "dealer_total += 10  # Dealer hits and receives a King\n",
    "print(\"Dealer hits and receives K. (total =\", dealer_total, \")\")\n",
    "print(\"Dealer stands.\")\n",
    "if dealer_total > 21:\n",
    "    print(\"Dealer busts.\")\n",
    "elif dealer_total >= player_total:\n",
    "    print(\"Dealer wins.\")\n",
    "else:\n",
    "    print(\"Player wins.\")\n"
   ]
  },
  {
   "cell_type": "markdown",
   "id": "67d79e71",
   "metadata": {
    "papermill": {
     "duration": 0.016941,
     "end_time": "2024-05-30T15:20:19.095030",
     "exception": false,
     "start_time": "2024-05-30T15:20:19.078089",
     "status": "completed"
    },
    "tags": []
   },
   "source": [
    "# Keep Going\n",
    "\n",
    "Learn about **[lists and tuples](https://www.kaggle.com/colinmorris/lists)** to handle multiple items of data in a systematic way."
   ]
  },
  {
   "cell_type": "markdown",
   "id": "71bbe7c3",
   "metadata": {
    "papermill": {
     "duration": 0.017665,
     "end_time": "2024-05-30T15:20:19.130319",
     "exception": false,
     "start_time": "2024-05-30T15:20:19.112654",
     "status": "completed"
    },
    "tags": []
   },
   "source": [
    "---\n",
    "\n",
    "\n",
    "\n",
    "\n",
    "*Have questions or comments? Visit the [course discussion forum](https://www.kaggle.com/learn/python/discussion) to chat with other learners.*"
   ]
  },
  {
   "cell_type": "code",
   "execution_count": null,
   "id": "87f80d51",
   "metadata": {
    "papermill": {
     "duration": 0.016769,
     "end_time": "2024-05-30T15:20:19.164257",
     "exception": false,
     "start_time": "2024-05-30T15:20:19.147488",
     "status": "completed"
    },
    "tags": []
   },
   "outputs": [],
   "source": []
  }
 ],
 "metadata": {
  "kaggle": {
   "accelerator": "none",
   "dataSources": [],
   "isGpuEnabled": false,
   "isInternetEnabled": false,
   "language": "python",
   "sourceType": "notebook"
  },
  "kernelspec": {
   "display_name": "Python 3",
   "language": "python",
   "name": "python3"
  },
  "language_info": {
   "codemirror_mode": {
    "name": "ipython",
    "version": 3
   },
   "file_extension": ".py",
   "mimetype": "text/x-python",
   "name": "python",
   "nbconvert_exporter": "python",
   "pygments_lexer": "ipython3",
   "version": "3.10.13"
  },
  "learntools_metadata": {
   "lesson_index": 2,
   "type": "exercise"
  },
  "papermill": {
   "default_parameters": {},
   "duration": 9.558434,
   "end_time": "2024-05-30T15:20:19.705938",
   "environment_variables": {},
   "exception": null,
   "input_path": "__notebook__.ipynb",
   "output_path": "__notebook__.ipynb",
   "parameters": {},
   "start_time": "2024-05-30T15:20:10.147504",
   "version": "2.5.0"
  }
 },
 "nbformat": 4,
 "nbformat_minor": 5
}
